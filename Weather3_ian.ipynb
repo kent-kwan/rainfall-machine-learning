{
 "cells": [
  {
   "cell_type": "code",
   "execution_count": 2,
   "id": "4872b3e8",
   "metadata": {
    "executionInfo": {
     "elapsed": 1478,
     "status": "ok",
     "timestamp": 1637734142875,
     "user": {
      "displayName": "Ian Lam",
      "photoUrl": "https://lh3.googleusercontent.com/a/default-user=s64",
      "userId": "11070752889004136904"
     },
     "user_tz": -480
    },
    "id": "4872b3e8"
   },
   "outputs": [
    {
     "data": {
      "text/plain": [
       "\"from google.colab import drive\\nimport pandas as pd\\ndf = pd.read_csv('/content/drive/MyDrive/Colab Notebooks/weatherAUS.csv')\""
      ]
     },
     "execution_count": 2,
     "metadata": {},
     "output_type": "execute_result"
    }
   ],
   "source": [
    "import pandas as pd\n",
    "df = pd.read_csv('weatherAUS.csv')\n",
    "df.head(2)\n",
    "\n",
    "'''from google.colab import drive\n",
    "import pandas as pd\n",
    "df = pd.read_csv('/content/drive/MyDrive/Colab Notebooks/weatherAUS.csv')'''"
   ]
  },
  {
   "cell_type": "code",
   "execution_count": 3,
   "id": "25ad5530",
   "metadata": {
    "colab": {
     "base_uri": "https://localhost:8080/"
    },
    "executionInfo": {
     "elapsed": 395,
     "status": "ok",
     "timestamp": 1637734146550,
     "user": {
      "displayName": "Ian Lam",
      "photoUrl": "https://lh3.googleusercontent.com/a/default-user=s64",
      "userId": "11070752889004136904"
     },
     "user_tz": -480
    },
    "id": "25ad5530",
    "outputId": "4a62c5ab-95f9-4505-accd-754798429cdf"
   },
   "outputs": [
    {
     "data": {
      "text/plain": [
       "Index(['Date', 'Location', 'MinTemp', 'MaxTemp', 'Rainfall', 'Evaporation',\n",
       "       'Sunshine', 'WindGustDir', 'WindGustSpeed', 'WindDir9am', 'WindDir3pm',\n",
       "       'WindSpeed9am', 'WindSpeed3pm', 'Humidity9am', 'Humidity3pm',\n",
       "       'Pressure9am', 'Pressure3pm', 'Cloud9am', 'Cloud3pm', 'Temp9am',\n",
       "       'Temp3pm', 'RainToday', 'RainTomorrow'],\n",
       "      dtype='object')"
      ]
     },
     "execution_count": 3,
     "metadata": {},
     "output_type": "execute_result"
    }
   ],
   "source": [
    "df.columns"
   ]
  },
  {
   "cell_type": "code",
   "execution_count": 4,
   "id": "354f5740",
   "metadata": {
    "executionInfo": {
     "elapsed": 1,
     "status": "ok",
     "timestamp": 1637734146999,
     "user": {
      "displayName": "Ian Lam",
      "photoUrl": "https://lh3.googleusercontent.com/a/default-user=s64",
      "userId": "11070752889004136904"
     },
     "user_tz": -480
    },
    "id": "354f5740"
   },
   "outputs": [],
   "source": [
    "df = df.drop(columns = 'Date')"
   ]
  },
  {
   "cell_type": "code",
   "execution_count": 5,
   "id": "0f8f7ae7",
   "metadata": {
    "executionInfo": {
     "elapsed": 3,
     "status": "ok",
     "timestamp": 1637734147417,
     "user": {
      "displayName": "Ian Lam",
      "photoUrl": "https://lh3.googleusercontent.com/a/default-user=s64",
      "userId": "11070752889004136904"
     },
     "user_tz": -480
    },
    "id": "0f8f7ae7"
   },
   "outputs": [],
   "source": [
    "df = df.dropna()"
   ]
  },
  {
   "cell_type": "code",
   "execution_count": 6,
   "id": "cf4cd507",
   "metadata": {
    "colab": {
     "base_uri": "https://localhost:8080/"
    },
    "executionInfo": {
     "elapsed": 4,
     "status": "ok",
     "timestamp": 1637734147418,
     "user": {
      "displayName": "Ian Lam",
      "photoUrl": "https://lh3.googleusercontent.com/a/default-user=s64",
      "userId": "11070752889004136904"
     },
     "user_tz": -480
    },
    "id": "cf4cd507",
    "outputId": "52c61f9e-8704-4cbd-b0d0-d5e78a638a0c"
   },
   "outputs": [
    {
     "data": {
      "text/plain": [
       "(56420, 22)"
      ]
     },
     "execution_count": 6,
     "metadata": {},
     "output_type": "execute_result"
    }
   ],
   "source": [
    "df.shape"
   ]
  },
  {
   "cell_type": "code",
   "execution_count": 7,
   "id": "d7df237e",
   "metadata": {
    "colab": {
     "base_uri": "https://localhost:8080/",
     "height": 226
    },
    "executionInfo": {
     "elapsed": 944,
     "status": "ok",
     "timestamp": 1637734148359,
     "user": {
      "displayName": "Ian Lam",
      "photoUrl": "https://lh3.googleusercontent.com/a/default-user=s64",
      "userId": "11070752889004136904"
     },
     "user_tz": -480
    },
    "id": "d7df237e",
    "outputId": "e1d10189-7c3d-4c0c-cd35-59b8c9cb827e"
   },
   "outputs": [
    {
     "data": {
      "text/html": [
       "<div>\n",
       "<style scoped>\n",
       "    .dataframe tbody tr th:only-of-type {\n",
       "        vertical-align: middle;\n",
       "    }\n",
       "\n",
       "    .dataframe tbody tr th {\n",
       "        vertical-align: top;\n",
       "    }\n",
       "\n",
       "    .dataframe thead th {\n",
       "        text-align: right;\n",
       "    }\n",
       "</style>\n",
       "<table border=\"1\" class=\"dataframe\">\n",
       "  <thead>\n",
       "    <tr style=\"text-align: right;\">\n",
       "      <th></th>\n",
       "      <th>Location</th>\n",
       "      <th>MinTemp</th>\n",
       "      <th>MaxTemp</th>\n",
       "      <th>Rainfall</th>\n",
       "      <th>Evaporation</th>\n",
       "      <th>Sunshine</th>\n",
       "      <th>WindGustDir</th>\n",
       "      <th>WindGustSpeed</th>\n",
       "      <th>WindDir9am</th>\n",
       "      <th>WindDir3pm</th>\n",
       "      <th>...</th>\n",
       "      <th>Humidity9am</th>\n",
       "      <th>Humidity3pm</th>\n",
       "      <th>Pressure9am</th>\n",
       "      <th>Pressure3pm</th>\n",
       "      <th>Cloud9am</th>\n",
       "      <th>Cloud3pm</th>\n",
       "      <th>Temp9am</th>\n",
       "      <th>Temp3pm</th>\n",
       "      <th>RainToday</th>\n",
       "      <th>RainTomorrow</th>\n",
       "    </tr>\n",
       "  </thead>\n",
       "  <tbody>\n",
       "    <tr>\n",
       "      <th>6049</th>\n",
       "      <td>4</td>\n",
       "      <td>17.9</td>\n",
       "      <td>35.2</td>\n",
       "      <td>0.0</td>\n",
       "      <td>12.0</td>\n",
       "      <td>12.3</td>\n",
       "      <td>11</td>\n",
       "      <td>48.0</td>\n",
       "      <td>1</td>\n",
       "      <td>12</td>\n",
       "      <td>...</td>\n",
       "      <td>20.0</td>\n",
       "      <td>13.0</td>\n",
       "      <td>1006.3</td>\n",
       "      <td>1004.4</td>\n",
       "      <td>2.0</td>\n",
       "      <td>5.0</td>\n",
       "      <td>26.6</td>\n",
       "      <td>33.4</td>\n",
       "      <td>0</td>\n",
       "      <td>0</td>\n",
       "    </tr>\n",
       "    <tr>\n",
       "      <th>6050</th>\n",
       "      <td>4</td>\n",
       "      <td>18.4</td>\n",
       "      <td>28.9</td>\n",
       "      <td>0.0</td>\n",
       "      <td>14.8</td>\n",
       "      <td>13.0</td>\n",
       "      <td>8</td>\n",
       "      <td>37.0</td>\n",
       "      <td>10</td>\n",
       "      <td>10</td>\n",
       "      <td>...</td>\n",
       "      <td>30.0</td>\n",
       "      <td>8.0</td>\n",
       "      <td>1012.9</td>\n",
       "      <td>1012.1</td>\n",
       "      <td>1.0</td>\n",
       "      <td>1.0</td>\n",
       "      <td>20.3</td>\n",
       "      <td>27.0</td>\n",
       "      <td>0</td>\n",
       "      <td>0</td>\n",
       "    </tr>\n",
       "    <tr>\n",
       "      <th>6052</th>\n",
       "      <td>4</td>\n",
       "      <td>19.4</td>\n",
       "      <td>37.6</td>\n",
       "      <td>0.0</td>\n",
       "      <td>10.8</td>\n",
       "      <td>10.6</td>\n",
       "      <td>5</td>\n",
       "      <td>46.0</td>\n",
       "      <td>5</td>\n",
       "      <td>6</td>\n",
       "      <td>...</td>\n",
       "      <td>42.0</td>\n",
       "      <td>22.0</td>\n",
       "      <td>1012.3</td>\n",
       "      <td>1009.2</td>\n",
       "      <td>1.0</td>\n",
       "      <td>6.0</td>\n",
       "      <td>28.7</td>\n",
       "      <td>34.9</td>\n",
       "      <td>0</td>\n",
       "      <td>0</td>\n",
       "    </tr>\n",
       "    <tr>\n",
       "      <th>6053</th>\n",
       "      <td>4</td>\n",
       "      <td>21.9</td>\n",
       "      <td>38.4</td>\n",
       "      <td>0.0</td>\n",
       "      <td>11.4</td>\n",
       "      <td>12.2</td>\n",
       "      <td>14</td>\n",
       "      <td>31.0</td>\n",
       "      <td>14</td>\n",
       "      <td>15</td>\n",
       "      <td>...</td>\n",
       "      <td>37.0</td>\n",
       "      <td>22.0</td>\n",
       "      <td>1012.7</td>\n",
       "      <td>1009.1</td>\n",
       "      <td>1.0</td>\n",
       "      <td>5.0</td>\n",
       "      <td>29.1</td>\n",
       "      <td>35.6</td>\n",
       "      <td>0</td>\n",
       "      <td>0</td>\n",
       "    </tr>\n",
       "    <tr>\n",
       "      <th>6054</th>\n",
       "      <td>4</td>\n",
       "      <td>24.2</td>\n",
       "      <td>41.0</td>\n",
       "      <td>0.0</td>\n",
       "      <td>11.2</td>\n",
       "      <td>8.4</td>\n",
       "      <td>14</td>\n",
       "      <td>35.0</td>\n",
       "      <td>7</td>\n",
       "      <td>14</td>\n",
       "      <td>...</td>\n",
       "      <td>19.0</td>\n",
       "      <td>15.0</td>\n",
       "      <td>1010.7</td>\n",
       "      <td>1007.4</td>\n",
       "      <td>1.0</td>\n",
       "      <td>6.0</td>\n",
       "      <td>33.6</td>\n",
       "      <td>37.6</td>\n",
       "      <td>0</td>\n",
       "      <td>0</td>\n",
       "    </tr>\n",
       "  </tbody>\n",
       "</table>\n",
       "<p>5 rows × 22 columns</p>\n",
       "</div>"
      ],
      "text/plain": [
       "      Location  MinTemp  MaxTemp  Rainfall  Evaporation  Sunshine  \\\n",
       "6049         4     17.9     35.2       0.0         12.0      12.3   \n",
       "6050         4     18.4     28.9       0.0         14.8      13.0   \n",
       "6052         4     19.4     37.6       0.0         10.8      10.6   \n",
       "6053         4     21.9     38.4       0.0         11.4      12.2   \n",
       "6054         4     24.2     41.0       0.0         11.2       8.4   \n",
       "\n",
       "      WindGustDir  WindGustSpeed  WindDir9am  WindDir3pm  ...  Humidity9am  \\\n",
       "6049           11           48.0           1          12  ...         20.0   \n",
       "6050            8           37.0          10          10  ...         30.0   \n",
       "6052            5           46.0           5           6  ...         42.0   \n",
       "6053           14           31.0          14          15  ...         37.0   \n",
       "6054           14           35.0           7          14  ...         19.0   \n",
       "\n",
       "      Humidity3pm  Pressure9am  Pressure3pm  Cloud9am  Cloud3pm  Temp9am  \\\n",
       "6049         13.0       1006.3       1004.4       2.0       5.0     26.6   \n",
       "6050          8.0       1012.9       1012.1       1.0       1.0     20.3   \n",
       "6052         22.0       1012.3       1009.2       1.0       6.0     28.7   \n",
       "6053         22.0       1012.7       1009.1       1.0       5.0     29.1   \n",
       "6054         15.0       1010.7       1007.4       1.0       6.0     33.6   \n",
       "\n",
       "      Temp3pm  RainToday  RainTomorrow  \n",
       "6049     33.4          0             0  \n",
       "6050     27.0          0             0  \n",
       "6052     34.9          0             0  \n",
       "6053     35.6          0             0  \n",
       "6054     37.6          0             0  \n",
       "\n",
       "[5 rows x 22 columns]"
      ]
     },
     "execution_count": 7,
     "metadata": {},
     "output_type": "execute_result"
    }
   ],
   "source": [
    "from sklearn.preprocessing import LabelEncoder\n",
    "le = LabelEncoder()\n",
    "label_location = le.fit_transform(df['Location'])\n",
    "label_WindGustDir = le.fit_transform(df['WindGustDir'])\n",
    "label_WindDir9am = le.fit_transform(df['WindDir9am'])\n",
    "label_WindDir3pm = le.fit_transform(df['WindDir3pm'])\n",
    "label_RainToday = le.fit_transform(df['RainToday'])\n",
    "label_RainTomorrow = le.fit_transform(df['RainTomorrow'])\n",
    "\n",
    "df['Location'] = label_location\n",
    "df['WindGustDir'] = label_WindGustDir\n",
    "df['WindDir9am'] = label_WindDir9am\n",
    "df['WindDir3pm'] = label_WindDir3pm\n",
    "df['RainToday'] = label_RainToday\n",
    "df['RainTomorrow'] = label_RainTomorrow\n",
    "\n",
    "df.head()"
   ]
  },
  {
   "cell_type": "code",
   "execution_count": 8,
   "id": "07a0dea3",
   "metadata": {
    "colab": {
     "base_uri": "https://localhost:8080/",
     "height": 443
    },
    "executionInfo": {
     "elapsed": 7,
     "status": "ok",
     "timestamp": 1637734148360,
     "user": {
      "displayName": "Ian Lam",
      "photoUrl": "https://lh3.googleusercontent.com/a/default-user=s64",
      "userId": "11070752889004136904"
     },
     "user_tz": -480
    },
    "id": "07a0dea3",
    "outputId": "c66c1084-dd52-4aff-d914-f72cd92110ce"
   },
   "outputs": [
    {
     "data": {
      "text/html": [
       "<div>\n",
       "<style scoped>\n",
       "    .dataframe tbody tr th:only-of-type {\n",
       "        vertical-align: middle;\n",
       "    }\n",
       "\n",
       "    .dataframe tbody tr th {\n",
       "        vertical-align: top;\n",
       "    }\n",
       "\n",
       "    .dataframe thead th {\n",
       "        text-align: right;\n",
       "    }\n",
       "</style>\n",
       "<table border=\"1\" class=\"dataframe\">\n",
       "  <thead>\n",
       "    <tr style=\"text-align: right;\">\n",
       "      <th></th>\n",
       "      <th>MinTemp</th>\n",
       "      <th>MaxTemp</th>\n",
       "      <th>Rainfall</th>\n",
       "      <th>Evaporation</th>\n",
       "      <th>Sunshine</th>\n",
       "      <th>WindGustSpeed</th>\n",
       "      <th>WindSpeed9am</th>\n",
       "      <th>WindSpeed3pm</th>\n",
       "      <th>Humidity9am</th>\n",
       "      <th>Humidity3pm</th>\n",
       "      <th>Pressure9am</th>\n",
       "      <th>Pressure3pm</th>\n",
       "      <th>Cloud9am</th>\n",
       "      <th>Cloud3pm</th>\n",
       "      <th>Temp9am</th>\n",
       "      <th>Temp3pm</th>\n",
       "    </tr>\n",
       "  </thead>\n",
       "  <tbody>\n",
       "    <tr>\n",
       "      <th>0</th>\n",
       "      <td>0.645669</td>\n",
       "      <td>0.706818</td>\n",
       "      <td>0.0</td>\n",
       "      <td>0.147783</td>\n",
       "      <td>0.848276</td>\n",
       "      <td>0.339130</td>\n",
       "      <td>0.061538</td>\n",
       "      <td>0.243243</td>\n",
       "      <td>0.20</td>\n",
       "      <td>0.13</td>\n",
       "      <td>0.430718</td>\n",
       "      <td>0.441748</td>\n",
       "      <td>0.250</td>\n",
       "      <td>0.555556</td>\n",
       "      <td>0.680798</td>\n",
       "      <td>0.700472</td>\n",
       "    </tr>\n",
       "    <tr>\n",
       "      <th>1</th>\n",
       "      <td>0.658793</td>\n",
       "      <td>0.563636</td>\n",
       "      <td>0.0</td>\n",
       "      <td>0.182266</td>\n",
       "      <td>0.896552</td>\n",
       "      <td>0.243478</td>\n",
       "      <td>0.261538</td>\n",
       "      <td>0.229730</td>\n",
       "      <td>0.30</td>\n",
       "      <td>0.08</td>\n",
       "      <td>0.540902</td>\n",
       "      <td>0.566343</td>\n",
       "      <td>0.125</td>\n",
       "      <td>0.111111</td>\n",
       "      <td>0.523691</td>\n",
       "      <td>0.549528</td>\n",
       "    </tr>\n",
       "    <tr>\n",
       "      <th>2</th>\n",
       "      <td>0.685039</td>\n",
       "      <td>0.761364</td>\n",
       "      <td>0.0</td>\n",
       "      <td>0.133005</td>\n",
       "      <td>0.731034</td>\n",
       "      <td>0.321739</td>\n",
       "      <td>0.430769</td>\n",
       "      <td>0.175676</td>\n",
       "      <td>0.42</td>\n",
       "      <td>0.22</td>\n",
       "      <td>0.530885</td>\n",
       "      <td>0.519417</td>\n",
       "      <td>0.125</td>\n",
       "      <td>0.666667</td>\n",
       "      <td>0.733167</td>\n",
       "      <td>0.735849</td>\n",
       "    </tr>\n",
       "    <tr>\n",
       "      <th>3</th>\n",
       "      <td>0.750656</td>\n",
       "      <td>0.779545</td>\n",
       "      <td>0.0</td>\n",
       "      <td>0.140394</td>\n",
       "      <td>0.841379</td>\n",
       "      <td>0.191304</td>\n",
       "      <td>0.061538</td>\n",
       "      <td>0.054054</td>\n",
       "      <td>0.37</td>\n",
       "      <td>0.22</td>\n",
       "      <td>0.537563</td>\n",
       "      <td>0.517799</td>\n",
       "      <td>0.125</td>\n",
       "      <td>0.555556</td>\n",
       "      <td>0.743142</td>\n",
       "      <td>0.752358</td>\n",
       "    </tr>\n",
       "    <tr>\n",
       "      <th>4</th>\n",
       "      <td>0.811024</td>\n",
       "      <td>0.838636</td>\n",
       "      <td>0.0</td>\n",
       "      <td>0.137931</td>\n",
       "      <td>0.579310</td>\n",
       "      <td>0.226087</td>\n",
       "      <td>0.230769</td>\n",
       "      <td>0.148649</td>\n",
       "      <td>0.19</td>\n",
       "      <td>0.15</td>\n",
       "      <td>0.504174</td>\n",
       "      <td>0.490291</td>\n",
       "      <td>0.125</td>\n",
       "      <td>0.666667</td>\n",
       "      <td>0.855362</td>\n",
       "      <td>0.799528</td>\n",
       "    </tr>\n",
       "    <tr>\n",
       "      <th>...</th>\n",
       "      <td>...</td>\n",
       "      <td>...</td>\n",
       "      <td>...</td>\n",
       "      <td>...</td>\n",
       "      <td>...</td>\n",
       "      <td>...</td>\n",
       "      <td>...</td>\n",
       "      <td>...</td>\n",
       "      <td>...</td>\n",
       "      <td>...</td>\n",
       "      <td>...</td>\n",
       "      <td>...</td>\n",
       "      <td>...</td>\n",
       "      <td>...</td>\n",
       "      <td>...</td>\n",
       "      <td>...</td>\n",
       "    </tr>\n",
       "    <tr>\n",
       "      <th>56415</th>\n",
       "      <td>0.682415</td>\n",
       "      <td>0.665909</td>\n",
       "      <td>0.0</td>\n",
       "      <td>0.073892</td>\n",
       "      <td>0.758621</td>\n",
       "      <td>0.226087</td>\n",
       "      <td>0.107692</td>\n",
       "      <td>0.243243</td>\n",
       "      <td>0.63</td>\n",
       "      <td>0.32</td>\n",
       "      <td>0.557596</td>\n",
       "      <td>0.540453</td>\n",
       "      <td>0.000</td>\n",
       "      <td>0.111111</td>\n",
       "      <td>0.628429</td>\n",
       "      <td>0.674528</td>\n",
       "    </tr>\n",
       "    <tr>\n",
       "      <th>56416</th>\n",
       "      <td>0.732283</td>\n",
       "      <td>0.647727</td>\n",
       "      <td>0.0</td>\n",
       "      <td>0.093596</td>\n",
       "      <td>0.593103</td>\n",
       "      <td>0.243478</td>\n",
       "      <td>0.169231</td>\n",
       "      <td>0.121622</td>\n",
       "      <td>0.56</td>\n",
       "      <td>0.28</td>\n",
       "      <td>0.569282</td>\n",
       "      <td>0.551780</td>\n",
       "      <td>0.875</td>\n",
       "      <td>0.000000</td>\n",
       "      <td>0.635910</td>\n",
       "      <td>0.667453</td>\n",
       "    </tr>\n",
       "    <tr>\n",
       "      <th>56417</th>\n",
       "      <td>0.719160</td>\n",
       "      <td>0.652273</td>\n",
       "      <td>0.0</td>\n",
       "      <td>0.068966</td>\n",
       "      <td>0.758621</td>\n",
       "      <td>0.208696</td>\n",
       "      <td>0.230769</td>\n",
       "      <td>0.121622</td>\n",
       "      <td>0.46</td>\n",
       "      <td>0.23</td>\n",
       "      <td>0.580968</td>\n",
       "      <td>0.561489</td>\n",
       "      <td>0.000</td>\n",
       "      <td>0.000000</td>\n",
       "      <td>0.635910</td>\n",
       "      <td>0.669811</td>\n",
       "    </tr>\n",
       "    <tr>\n",
       "      <th>56418</th>\n",
       "      <td>0.687664</td>\n",
       "      <td>0.629545</td>\n",
       "      <td>0.0</td>\n",
       "      <td>0.076355</td>\n",
       "      <td>0.731034</td>\n",
       "      <td>0.147826</td>\n",
       "      <td>0.107692</td>\n",
       "      <td>0.202703</td>\n",
       "      <td>0.62</td>\n",
       "      <td>0.58</td>\n",
       "      <td>0.574290</td>\n",
       "      <td>0.543689</td>\n",
       "      <td>0.125</td>\n",
       "      <td>0.111111</td>\n",
       "      <td>0.635910</td>\n",
       "      <td>0.601415</td>\n",
       "    </tr>\n",
       "    <tr>\n",
       "      <th>56419</th>\n",
       "      <td>0.706037</td>\n",
       "      <td>0.627273</td>\n",
       "      <td>0.0</td>\n",
       "      <td>0.068966</td>\n",
       "      <td>0.737931</td>\n",
       "      <td>0.182609</td>\n",
       "      <td>0.200000</td>\n",
       "      <td>0.067568</td>\n",
       "      <td>0.73</td>\n",
       "      <td>0.32</td>\n",
       "      <td>0.557596</td>\n",
       "      <td>0.527508</td>\n",
       "      <td>0.750</td>\n",
       "      <td>0.555556</td>\n",
       "      <td>0.650873</td>\n",
       "      <td>0.643868</td>\n",
       "    </tr>\n",
       "  </tbody>\n",
       "</table>\n",
       "<p>56420 rows × 16 columns</p>\n",
       "</div>"
      ],
      "text/plain": [
       "        MinTemp   MaxTemp  Rainfall  Evaporation  Sunshine  WindGustSpeed  \\\n",
       "0      0.645669  0.706818       0.0     0.147783  0.848276       0.339130   \n",
       "1      0.658793  0.563636       0.0     0.182266  0.896552       0.243478   \n",
       "2      0.685039  0.761364       0.0     0.133005  0.731034       0.321739   \n",
       "3      0.750656  0.779545       0.0     0.140394  0.841379       0.191304   \n",
       "4      0.811024  0.838636       0.0     0.137931  0.579310       0.226087   \n",
       "...         ...       ...       ...          ...       ...            ...   \n",
       "56415  0.682415  0.665909       0.0     0.073892  0.758621       0.226087   \n",
       "56416  0.732283  0.647727       0.0     0.093596  0.593103       0.243478   \n",
       "56417  0.719160  0.652273       0.0     0.068966  0.758621       0.208696   \n",
       "56418  0.687664  0.629545       0.0     0.076355  0.731034       0.147826   \n",
       "56419  0.706037  0.627273       0.0     0.068966  0.737931       0.182609   \n",
       "\n",
       "       WindSpeed9am  WindSpeed3pm  Humidity9am  Humidity3pm  Pressure9am  \\\n",
       "0          0.061538      0.243243         0.20         0.13     0.430718   \n",
       "1          0.261538      0.229730         0.30         0.08     0.540902   \n",
       "2          0.430769      0.175676         0.42         0.22     0.530885   \n",
       "3          0.061538      0.054054         0.37         0.22     0.537563   \n",
       "4          0.230769      0.148649         0.19         0.15     0.504174   \n",
       "...             ...           ...          ...          ...          ...   \n",
       "56415      0.107692      0.243243         0.63         0.32     0.557596   \n",
       "56416      0.169231      0.121622         0.56         0.28     0.569282   \n",
       "56417      0.230769      0.121622         0.46         0.23     0.580968   \n",
       "56418      0.107692      0.202703         0.62         0.58     0.574290   \n",
       "56419      0.200000      0.067568         0.73         0.32     0.557596   \n",
       "\n",
       "       Pressure3pm  Cloud9am  Cloud3pm   Temp9am   Temp3pm  \n",
       "0         0.441748     0.250  0.555556  0.680798  0.700472  \n",
       "1         0.566343     0.125  0.111111  0.523691  0.549528  \n",
       "2         0.519417     0.125  0.666667  0.733167  0.735849  \n",
       "3         0.517799     0.125  0.555556  0.743142  0.752358  \n",
       "4         0.490291     0.125  0.666667  0.855362  0.799528  \n",
       "...            ...       ...       ...       ...       ...  \n",
       "56415     0.540453     0.000  0.111111  0.628429  0.674528  \n",
       "56416     0.551780     0.875  0.000000  0.635910  0.667453  \n",
       "56417     0.561489     0.000  0.000000  0.635910  0.669811  \n",
       "56418     0.543689     0.125  0.111111  0.635910  0.601415  \n",
       "56419     0.527508     0.750  0.555556  0.650873  0.643868  \n",
       "\n",
       "[56420 rows x 16 columns]"
      ]
     },
     "execution_count": 8,
     "metadata": {},
     "output_type": "execute_result"
    }
   ],
   "source": [
    "t = df.drop(columns = ['Location','WindGustDir', 'WindDir9am', 'WindDir3pm','RainToday', 'RainTomorrow' ])\n",
    "t\n",
    "from sklearn.preprocessing import MinMaxScaler\n",
    "t_new = MinMaxScaler().fit_transform(t)\n",
    "t = pd.DataFrame(t_new)\n",
    "t.reset_index(inplace = True ,drop = True)\n",
    "t.columns = [ 'MinTemp', 'MaxTemp', 'Rainfall', 'Evaporation',\n",
    "       'Sunshine',  'WindGustSpeed',\n",
    "       'WindSpeed9am', 'WindSpeed3pm', 'Humidity9am', 'Humidity3pm',\n",
    "       'Pressure9am', 'Pressure3pm', 'Cloud9am', 'Cloud3pm', 'Temp9am',\n",
    "       'Temp3pm']\n",
    "t"
   ]
  },
  {
   "cell_type": "code",
   "execution_count": 9,
   "id": "91babe52",
   "metadata": {
    "colab": {
     "base_uri": "https://localhost:8080/",
     "height": 423
    },
    "executionInfo": {
     "elapsed": 379,
     "status": "ok",
     "timestamp": 1637734150334,
     "user": {
      "displayName": "Ian Lam",
      "photoUrl": "https://lh3.googleusercontent.com/a/default-user=s64",
      "userId": "11070752889004136904"
     },
     "user_tz": -480
    },
    "id": "91babe52",
    "outputId": "293f7782-74cf-4d18-ab6d-d8eae5351285"
   },
   "outputs": [
    {
     "data": {
      "text/html": [
       "<div>\n",
       "<style scoped>\n",
       "    .dataframe tbody tr th:only-of-type {\n",
       "        vertical-align: middle;\n",
       "    }\n",
       "\n",
       "    .dataframe tbody tr th {\n",
       "        vertical-align: top;\n",
       "    }\n",
       "\n",
       "    .dataframe thead th {\n",
       "        text-align: right;\n",
       "    }\n",
       "</style>\n",
       "<table border=\"1\" class=\"dataframe\">\n",
       "  <thead>\n",
       "    <tr style=\"text-align: right;\">\n",
       "      <th></th>\n",
       "      <th>Location</th>\n",
       "      <th>WindGustDir</th>\n",
       "      <th>WindDir9am</th>\n",
       "      <th>WindDir3pm</th>\n",
       "      <th>RainToday</th>\n",
       "      <th>RainTomorrow</th>\n",
       "    </tr>\n",
       "  </thead>\n",
       "  <tbody>\n",
       "    <tr>\n",
       "      <th>0</th>\n",
       "      <td>4</td>\n",
       "      <td>11</td>\n",
       "      <td>1</td>\n",
       "      <td>12</td>\n",
       "      <td>0</td>\n",
       "      <td>0</td>\n",
       "    </tr>\n",
       "    <tr>\n",
       "      <th>1</th>\n",
       "      <td>4</td>\n",
       "      <td>8</td>\n",
       "      <td>10</td>\n",
       "      <td>10</td>\n",
       "      <td>0</td>\n",
       "      <td>0</td>\n",
       "    </tr>\n",
       "    <tr>\n",
       "      <th>2</th>\n",
       "      <td>4</td>\n",
       "      <td>5</td>\n",
       "      <td>5</td>\n",
       "      <td>6</td>\n",
       "      <td>0</td>\n",
       "      <td>0</td>\n",
       "    </tr>\n",
       "    <tr>\n",
       "      <th>3</th>\n",
       "      <td>4</td>\n",
       "      <td>14</td>\n",
       "      <td>14</td>\n",
       "      <td>15</td>\n",
       "      <td>0</td>\n",
       "      <td>0</td>\n",
       "    </tr>\n",
       "    <tr>\n",
       "      <th>4</th>\n",
       "      <td>4</td>\n",
       "      <td>14</td>\n",
       "      <td>7</td>\n",
       "      <td>14</td>\n",
       "      <td>0</td>\n",
       "      <td>0</td>\n",
       "    </tr>\n",
       "    <tr>\n",
       "      <th>...</th>\n",
       "      <td>...</td>\n",
       "      <td>...</td>\n",
       "      <td>...</td>\n",
       "      <td>...</td>\n",
       "      <td>...</td>\n",
       "      <td>...</td>\n",
       "    </tr>\n",
       "    <tr>\n",
       "      <th>56415</th>\n",
       "      <td>6</td>\n",
       "      <td>1</td>\n",
       "      <td>9</td>\n",
       "      <td>4</td>\n",
       "      <td>0</td>\n",
       "      <td>0</td>\n",
       "    </tr>\n",
       "    <tr>\n",
       "      <th>56416</th>\n",
       "      <td>6</td>\n",
       "      <td>0</td>\n",
       "      <td>9</td>\n",
       "      <td>9</td>\n",
       "      <td>0</td>\n",
       "      <td>0</td>\n",
       "    </tr>\n",
       "    <tr>\n",
       "      <th>56417</th>\n",
       "      <td>6</td>\n",
       "      <td>0</td>\n",
       "      <td>0</td>\n",
       "      <td>13</td>\n",
       "      <td>0</td>\n",
       "      <td>0</td>\n",
       "    </tr>\n",
       "    <tr>\n",
       "      <th>56418</th>\n",
       "      <td>6</td>\n",
       "      <td>2</td>\n",
       "      <td>9</td>\n",
       "      <td>6</td>\n",
       "      <td>0</td>\n",
       "      <td>0</td>\n",
       "    </tr>\n",
       "    <tr>\n",
       "      <th>56419</th>\n",
       "      <td>6</td>\n",
       "      <td>1</td>\n",
       "      <td>1</td>\n",
       "      <td>6</td>\n",
       "      <td>0</td>\n",
       "      <td>0</td>\n",
       "    </tr>\n",
       "  </tbody>\n",
       "</table>\n",
       "<p>56420 rows × 6 columns</p>\n",
       "</div>"
      ],
      "text/plain": [
       "       Location  WindGustDir  WindDir9am  WindDir3pm  RainToday  RainTomorrow\n",
       "0             4           11           1          12          0             0\n",
       "1             4            8          10          10          0             0\n",
       "2             4            5           5           6          0             0\n",
       "3             4           14          14          15          0             0\n",
       "4             4           14           7          14          0             0\n",
       "...         ...          ...         ...         ...        ...           ...\n",
       "56415         6            1           9           4          0             0\n",
       "56416         6            0           9           9          0             0\n",
       "56417         6            0           0          13          0             0\n",
       "56418         6            2           9           6          0             0\n",
       "56419         6            1           1           6          0             0\n",
       "\n",
       "[56420 rows x 6 columns]"
      ]
     },
     "execution_count": 9,
     "metadata": {},
     "output_type": "execute_result"
    }
   ],
   "source": [
    "df1 = df[['Location','WindGustDir', 'WindDir9am', 'WindDir3pm','RainToday', 'RainTomorrow' ]]\n",
    "df1.reset_index(inplace = True,drop = True)\n",
    "df1"
   ]
  },
  {
   "cell_type": "code",
   "execution_count": 10,
   "id": "ce9d0458",
   "metadata": {
    "colab": {
     "base_uri": "https://localhost:8080/",
     "height": 443
    },
    "executionInfo": {
     "elapsed": 6,
     "status": "ok",
     "timestamp": 1637734151582,
     "user": {
      "displayName": "Ian Lam",
      "photoUrl": "https://lh3.googleusercontent.com/a/default-user=s64",
      "userId": "11070752889004136904"
     },
     "user_tz": -480
    },
    "id": "ce9d0458",
    "outputId": "1446819f-16a0-4251-86f2-2df3afca307f"
   },
   "outputs": [
    {
     "data": {
      "text/html": [
       "<div>\n",
       "<style scoped>\n",
       "    .dataframe tbody tr th:only-of-type {\n",
       "        vertical-align: middle;\n",
       "    }\n",
       "\n",
       "    .dataframe tbody tr th {\n",
       "        vertical-align: top;\n",
       "    }\n",
       "\n",
       "    .dataframe thead th {\n",
       "        text-align: right;\n",
       "    }\n",
       "</style>\n",
       "<table border=\"1\" class=\"dataframe\">\n",
       "  <thead>\n",
       "    <tr style=\"text-align: right;\">\n",
       "      <th></th>\n",
       "      <th>Location</th>\n",
       "      <th>WindGustDir</th>\n",
       "      <th>WindDir9am</th>\n",
       "      <th>WindDir3pm</th>\n",
       "      <th>RainToday</th>\n",
       "      <th>RainTomorrow</th>\n",
       "      <th>MinTemp</th>\n",
       "      <th>MaxTemp</th>\n",
       "      <th>Rainfall</th>\n",
       "      <th>Evaporation</th>\n",
       "      <th>...</th>\n",
       "      <th>WindSpeed9am</th>\n",
       "      <th>WindSpeed3pm</th>\n",
       "      <th>Humidity9am</th>\n",
       "      <th>Humidity3pm</th>\n",
       "      <th>Pressure9am</th>\n",
       "      <th>Pressure3pm</th>\n",
       "      <th>Cloud9am</th>\n",
       "      <th>Cloud3pm</th>\n",
       "      <th>Temp9am</th>\n",
       "      <th>Temp3pm</th>\n",
       "    </tr>\n",
       "  </thead>\n",
       "  <tbody>\n",
       "    <tr>\n",
       "      <th>0</th>\n",
       "      <td>4</td>\n",
       "      <td>11</td>\n",
       "      <td>1</td>\n",
       "      <td>12</td>\n",
       "      <td>0</td>\n",
       "      <td>0</td>\n",
       "      <td>0.645669</td>\n",
       "      <td>0.706818</td>\n",
       "      <td>0.0</td>\n",
       "      <td>0.147783</td>\n",
       "      <td>...</td>\n",
       "      <td>0.061538</td>\n",
       "      <td>0.243243</td>\n",
       "      <td>0.20</td>\n",
       "      <td>0.13</td>\n",
       "      <td>0.430718</td>\n",
       "      <td>0.441748</td>\n",
       "      <td>0.250</td>\n",
       "      <td>0.555556</td>\n",
       "      <td>0.680798</td>\n",
       "      <td>0.700472</td>\n",
       "    </tr>\n",
       "    <tr>\n",
       "      <th>1</th>\n",
       "      <td>4</td>\n",
       "      <td>8</td>\n",
       "      <td>10</td>\n",
       "      <td>10</td>\n",
       "      <td>0</td>\n",
       "      <td>0</td>\n",
       "      <td>0.658793</td>\n",
       "      <td>0.563636</td>\n",
       "      <td>0.0</td>\n",
       "      <td>0.182266</td>\n",
       "      <td>...</td>\n",
       "      <td>0.261538</td>\n",
       "      <td>0.229730</td>\n",
       "      <td>0.30</td>\n",
       "      <td>0.08</td>\n",
       "      <td>0.540902</td>\n",
       "      <td>0.566343</td>\n",
       "      <td>0.125</td>\n",
       "      <td>0.111111</td>\n",
       "      <td>0.523691</td>\n",
       "      <td>0.549528</td>\n",
       "    </tr>\n",
       "    <tr>\n",
       "      <th>2</th>\n",
       "      <td>4</td>\n",
       "      <td>5</td>\n",
       "      <td>5</td>\n",
       "      <td>6</td>\n",
       "      <td>0</td>\n",
       "      <td>0</td>\n",
       "      <td>0.685039</td>\n",
       "      <td>0.761364</td>\n",
       "      <td>0.0</td>\n",
       "      <td>0.133005</td>\n",
       "      <td>...</td>\n",
       "      <td>0.430769</td>\n",
       "      <td>0.175676</td>\n",
       "      <td>0.42</td>\n",
       "      <td>0.22</td>\n",
       "      <td>0.530885</td>\n",
       "      <td>0.519417</td>\n",
       "      <td>0.125</td>\n",
       "      <td>0.666667</td>\n",
       "      <td>0.733167</td>\n",
       "      <td>0.735849</td>\n",
       "    </tr>\n",
       "    <tr>\n",
       "      <th>3</th>\n",
       "      <td>4</td>\n",
       "      <td>14</td>\n",
       "      <td>14</td>\n",
       "      <td>15</td>\n",
       "      <td>0</td>\n",
       "      <td>0</td>\n",
       "      <td>0.750656</td>\n",
       "      <td>0.779545</td>\n",
       "      <td>0.0</td>\n",
       "      <td>0.140394</td>\n",
       "      <td>...</td>\n",
       "      <td>0.061538</td>\n",
       "      <td>0.054054</td>\n",
       "      <td>0.37</td>\n",
       "      <td>0.22</td>\n",
       "      <td>0.537563</td>\n",
       "      <td>0.517799</td>\n",
       "      <td>0.125</td>\n",
       "      <td>0.555556</td>\n",
       "      <td>0.743142</td>\n",
       "      <td>0.752358</td>\n",
       "    </tr>\n",
       "    <tr>\n",
       "      <th>4</th>\n",
       "      <td>4</td>\n",
       "      <td>14</td>\n",
       "      <td>7</td>\n",
       "      <td>14</td>\n",
       "      <td>0</td>\n",
       "      <td>0</td>\n",
       "      <td>0.811024</td>\n",
       "      <td>0.838636</td>\n",
       "      <td>0.0</td>\n",
       "      <td>0.137931</td>\n",
       "      <td>...</td>\n",
       "      <td>0.230769</td>\n",
       "      <td>0.148649</td>\n",
       "      <td>0.19</td>\n",
       "      <td>0.15</td>\n",
       "      <td>0.504174</td>\n",
       "      <td>0.490291</td>\n",
       "      <td>0.125</td>\n",
       "      <td>0.666667</td>\n",
       "      <td>0.855362</td>\n",
       "      <td>0.799528</td>\n",
       "    </tr>\n",
       "    <tr>\n",
       "      <th>...</th>\n",
       "      <td>...</td>\n",
       "      <td>...</td>\n",
       "      <td>...</td>\n",
       "      <td>...</td>\n",
       "      <td>...</td>\n",
       "      <td>...</td>\n",
       "      <td>...</td>\n",
       "      <td>...</td>\n",
       "      <td>...</td>\n",
       "      <td>...</td>\n",
       "      <td>...</td>\n",
       "      <td>...</td>\n",
       "      <td>...</td>\n",
       "      <td>...</td>\n",
       "      <td>...</td>\n",
       "      <td>...</td>\n",
       "      <td>...</td>\n",
       "      <td>...</td>\n",
       "      <td>...</td>\n",
       "      <td>...</td>\n",
       "      <td>...</td>\n",
       "    </tr>\n",
       "    <tr>\n",
       "      <th>56415</th>\n",
       "      <td>6</td>\n",
       "      <td>1</td>\n",
       "      <td>9</td>\n",
       "      <td>4</td>\n",
       "      <td>0</td>\n",
       "      <td>0</td>\n",
       "      <td>0.682415</td>\n",
       "      <td>0.665909</td>\n",
       "      <td>0.0</td>\n",
       "      <td>0.073892</td>\n",
       "      <td>...</td>\n",
       "      <td>0.107692</td>\n",
       "      <td>0.243243</td>\n",
       "      <td>0.63</td>\n",
       "      <td>0.32</td>\n",
       "      <td>0.557596</td>\n",
       "      <td>0.540453</td>\n",
       "      <td>0.000</td>\n",
       "      <td>0.111111</td>\n",
       "      <td>0.628429</td>\n",
       "      <td>0.674528</td>\n",
       "    </tr>\n",
       "    <tr>\n",
       "      <th>56416</th>\n",
       "      <td>6</td>\n",
       "      <td>0</td>\n",
       "      <td>9</td>\n",
       "      <td>9</td>\n",
       "      <td>0</td>\n",
       "      <td>0</td>\n",
       "      <td>0.732283</td>\n",
       "      <td>0.647727</td>\n",
       "      <td>0.0</td>\n",
       "      <td>0.093596</td>\n",
       "      <td>...</td>\n",
       "      <td>0.169231</td>\n",
       "      <td>0.121622</td>\n",
       "      <td>0.56</td>\n",
       "      <td>0.28</td>\n",
       "      <td>0.569282</td>\n",
       "      <td>0.551780</td>\n",
       "      <td>0.875</td>\n",
       "      <td>0.000000</td>\n",
       "      <td>0.635910</td>\n",
       "      <td>0.667453</td>\n",
       "    </tr>\n",
       "    <tr>\n",
       "      <th>56417</th>\n",
       "      <td>6</td>\n",
       "      <td>0</td>\n",
       "      <td>0</td>\n",
       "      <td>13</td>\n",
       "      <td>0</td>\n",
       "      <td>0</td>\n",
       "      <td>0.719160</td>\n",
       "      <td>0.652273</td>\n",
       "      <td>0.0</td>\n",
       "      <td>0.068966</td>\n",
       "      <td>...</td>\n",
       "      <td>0.230769</td>\n",
       "      <td>0.121622</td>\n",
       "      <td>0.46</td>\n",
       "      <td>0.23</td>\n",
       "      <td>0.580968</td>\n",
       "      <td>0.561489</td>\n",
       "      <td>0.000</td>\n",
       "      <td>0.000000</td>\n",
       "      <td>0.635910</td>\n",
       "      <td>0.669811</td>\n",
       "    </tr>\n",
       "    <tr>\n",
       "      <th>56418</th>\n",
       "      <td>6</td>\n",
       "      <td>2</td>\n",
       "      <td>9</td>\n",
       "      <td>6</td>\n",
       "      <td>0</td>\n",
       "      <td>0</td>\n",
       "      <td>0.687664</td>\n",
       "      <td>0.629545</td>\n",
       "      <td>0.0</td>\n",
       "      <td>0.076355</td>\n",
       "      <td>...</td>\n",
       "      <td>0.107692</td>\n",
       "      <td>0.202703</td>\n",
       "      <td>0.62</td>\n",
       "      <td>0.58</td>\n",
       "      <td>0.574290</td>\n",
       "      <td>0.543689</td>\n",
       "      <td>0.125</td>\n",
       "      <td>0.111111</td>\n",
       "      <td>0.635910</td>\n",
       "      <td>0.601415</td>\n",
       "    </tr>\n",
       "    <tr>\n",
       "      <th>56419</th>\n",
       "      <td>6</td>\n",
       "      <td>1</td>\n",
       "      <td>1</td>\n",
       "      <td>6</td>\n",
       "      <td>0</td>\n",
       "      <td>0</td>\n",
       "      <td>0.706037</td>\n",
       "      <td>0.627273</td>\n",
       "      <td>0.0</td>\n",
       "      <td>0.068966</td>\n",
       "      <td>...</td>\n",
       "      <td>0.200000</td>\n",
       "      <td>0.067568</td>\n",
       "      <td>0.73</td>\n",
       "      <td>0.32</td>\n",
       "      <td>0.557596</td>\n",
       "      <td>0.527508</td>\n",
       "      <td>0.750</td>\n",
       "      <td>0.555556</td>\n",
       "      <td>0.650873</td>\n",
       "      <td>0.643868</td>\n",
       "    </tr>\n",
       "  </tbody>\n",
       "</table>\n",
       "<p>56420 rows × 22 columns</p>\n",
       "</div>"
      ],
      "text/plain": [
       "       Location  WindGustDir  WindDir9am  WindDir3pm  RainToday  RainTomorrow  \\\n",
       "0             4           11           1          12          0             0   \n",
       "1             4            8          10          10          0             0   \n",
       "2             4            5           5           6          0             0   \n",
       "3             4           14          14          15          0             0   \n",
       "4             4           14           7          14          0             0   \n",
       "...         ...          ...         ...         ...        ...           ...   \n",
       "56415         6            1           9           4          0             0   \n",
       "56416         6            0           9           9          0             0   \n",
       "56417         6            0           0          13          0             0   \n",
       "56418         6            2           9           6          0             0   \n",
       "56419         6            1           1           6          0             0   \n",
       "\n",
       "        MinTemp   MaxTemp  Rainfall  Evaporation  ...  WindSpeed9am  \\\n",
       "0      0.645669  0.706818       0.0     0.147783  ...      0.061538   \n",
       "1      0.658793  0.563636       0.0     0.182266  ...      0.261538   \n",
       "2      0.685039  0.761364       0.0     0.133005  ...      0.430769   \n",
       "3      0.750656  0.779545       0.0     0.140394  ...      0.061538   \n",
       "4      0.811024  0.838636       0.0     0.137931  ...      0.230769   \n",
       "...         ...       ...       ...          ...  ...           ...   \n",
       "56415  0.682415  0.665909       0.0     0.073892  ...      0.107692   \n",
       "56416  0.732283  0.647727       0.0     0.093596  ...      0.169231   \n",
       "56417  0.719160  0.652273       0.0     0.068966  ...      0.230769   \n",
       "56418  0.687664  0.629545       0.0     0.076355  ...      0.107692   \n",
       "56419  0.706037  0.627273       0.0     0.068966  ...      0.200000   \n",
       "\n",
       "       WindSpeed3pm  Humidity9am  Humidity3pm  Pressure9am  Pressure3pm  \\\n",
       "0          0.243243         0.20         0.13     0.430718     0.441748   \n",
       "1          0.229730         0.30         0.08     0.540902     0.566343   \n",
       "2          0.175676         0.42         0.22     0.530885     0.519417   \n",
       "3          0.054054         0.37         0.22     0.537563     0.517799   \n",
       "4          0.148649         0.19         0.15     0.504174     0.490291   \n",
       "...             ...          ...          ...          ...          ...   \n",
       "56415      0.243243         0.63         0.32     0.557596     0.540453   \n",
       "56416      0.121622         0.56         0.28     0.569282     0.551780   \n",
       "56417      0.121622         0.46         0.23     0.580968     0.561489   \n",
       "56418      0.202703         0.62         0.58     0.574290     0.543689   \n",
       "56419      0.067568         0.73         0.32     0.557596     0.527508   \n",
       "\n",
       "       Cloud9am  Cloud3pm   Temp9am   Temp3pm  \n",
       "0         0.250  0.555556  0.680798  0.700472  \n",
       "1         0.125  0.111111  0.523691  0.549528  \n",
       "2         0.125  0.666667  0.733167  0.735849  \n",
       "3         0.125  0.555556  0.743142  0.752358  \n",
       "4         0.125  0.666667  0.855362  0.799528  \n",
       "...         ...       ...       ...       ...  \n",
       "56415     0.000  0.111111  0.628429  0.674528  \n",
       "56416     0.875  0.000000  0.635910  0.667453  \n",
       "56417     0.000  0.000000  0.635910  0.669811  \n",
       "56418     0.125  0.111111  0.635910  0.601415  \n",
       "56419     0.750  0.555556  0.650873  0.643868  \n",
       "\n",
       "[56420 rows x 22 columns]"
      ]
     },
     "execution_count": 10,
     "metadata": {},
     "output_type": "execute_result"
    }
   ],
   "source": [
    "df2 = pd.concat([df1, t], axis=1)\n",
    "df2"
   ]
  },
  {
   "cell_type": "code",
   "execution_count": 11,
   "id": "8099479b",
   "metadata": {
    "colab": {
     "base_uri": "https://localhost:8080/"
    },
    "executionInfo": {
     "elapsed": 3,
     "status": "ok",
     "timestamp": 1637734152618,
     "user": {
      "displayName": "Ian Lam",
      "photoUrl": "https://lh3.googleusercontent.com/a/default-user=s64",
      "userId": "11070752889004136904"
     },
     "user_tz": -480
    },
    "id": "8099479b",
    "outputId": "83786752-f20b-4709-e4db-03cd9deeba26"
   },
   "outputs": [
    {
     "data": {
      "text/plain": [
       "Location         0\n",
       "MinTemp          0\n",
       "MaxTemp          0\n",
       "Rainfall         0\n",
       "Evaporation      0\n",
       "Sunshine         0\n",
       "WindGustDir      0\n",
       "WindGustSpeed    0\n",
       "WindDir9am       0\n",
       "WindDir3pm       0\n",
       "WindSpeed9am     0\n",
       "WindSpeed3pm     0\n",
       "Humidity9am      0\n",
       "Humidity3pm      0\n",
       "Pressure9am      0\n",
       "Pressure3pm      0\n",
       "Cloud9am         0\n",
       "Cloud3pm         0\n",
       "Temp9am          0\n",
       "Temp3pm          0\n",
       "RainToday        0\n",
       "RainTomorrow     0\n",
       "dtype: int64"
      ]
     },
     "execution_count": 11,
     "metadata": {},
     "output_type": "execute_result"
    }
   ],
   "source": [
    "df.isna().sum()"
   ]
  },
  {
   "cell_type": "code",
   "execution_count": 12,
   "id": "d3d1c294",
   "metadata": {
    "colab": {
     "base_uri": "https://localhost:8080/"
    },
    "executionInfo": {
     "elapsed": 4,
     "status": "ok",
     "timestamp": 1637734153579,
     "user": {
      "displayName": "Ian Lam",
      "photoUrl": "https://lh3.googleusercontent.com/a/default-user=s64",
      "userId": "11070752889004136904"
     },
     "user_tz": -480
    },
    "id": "d3d1c294",
    "outputId": "62332dc0-c9be-4c81-aa05-06208228104b"
   },
   "outputs": [
    {
     "data": {
      "text/plain": [
       "6     3062\n",
       "15    3025\n",
       "1     2953\n",
       "9     2929\n",
       "16    2913\n",
       "20    2870\n",
       "23    2730\n",
       "10    2594\n",
       "12    2465\n",
       "13    2464\n",
       "2     2444\n",
       "21    2419\n",
       "22    2416\n",
       "0     2223\n",
       "14    2008\n",
       "7     1939\n",
       "11    1913\n",
       "8     1898\n",
       "17    1863\n",
       "25    1734\n",
       "19    1690\n",
       "18    1678\n",
       "5     1380\n",
       "24    1198\n",
       "3     1078\n",
       "4      534\n",
       "Name: Location, dtype: int64"
      ]
     },
     "execution_count": 12,
     "metadata": {},
     "output_type": "execute_result"
    }
   ],
   "source": [
    "df2.Location.value_counts()"
   ]
  },
  {
   "cell_type": "code",
   "execution_count": 13,
   "id": "5ad83ef5",
   "metadata": {
    "colab": {
     "base_uri": "https://localhost:8080/",
     "height": 759
    },
    "executionInfo": {
     "elapsed": 346,
     "status": "ok",
     "timestamp": 1637734154356,
     "user": {
      "displayName": "Ian Lam",
      "photoUrl": "https://lh3.googleusercontent.com/a/default-user=s64",
      "userId": "11070752889004136904"
     },
     "user_tz": -480
    },
    "id": "5ad83ef5",
    "outputId": "1e763ac8-1d66-4f04-b40d-e9b954648dfc"
   },
   "outputs": [
    {
     "data": {
      "text/html": [
       "<div>\n",
       "<style scoped>\n",
       "    .dataframe tbody tr th:only-of-type {\n",
       "        vertical-align: middle;\n",
       "    }\n",
       "\n",
       "    .dataframe tbody tr th {\n",
       "        vertical-align: top;\n",
       "    }\n",
       "\n",
       "    .dataframe thead th {\n",
       "        text-align: right;\n",
       "    }\n",
       "</style>\n",
       "<table border=\"1\" class=\"dataframe\">\n",
       "  <thead>\n",
       "    <tr style=\"text-align: right;\">\n",
       "      <th></th>\n",
       "      <th>Location</th>\n",
       "      <th>WindGustDir</th>\n",
       "      <th>WindDir9am</th>\n",
       "      <th>WindDir3pm</th>\n",
       "      <th>RainToday</th>\n",
       "      <th>RainTomorrow</th>\n",
       "      <th>MinTemp</th>\n",
       "      <th>MaxTemp</th>\n",
       "      <th>Rainfall</th>\n",
       "      <th>Evaporation</th>\n",
       "      <th>...</th>\n",
       "      <th>WindSpeed9am</th>\n",
       "      <th>WindSpeed3pm</th>\n",
       "      <th>Humidity9am</th>\n",
       "      <th>Humidity3pm</th>\n",
       "      <th>Pressure9am</th>\n",
       "      <th>Pressure3pm</th>\n",
       "      <th>Cloud9am</th>\n",
       "      <th>Cloud3pm</th>\n",
       "      <th>Temp9am</th>\n",
       "      <th>Temp3pm</th>\n",
       "    </tr>\n",
       "  </thead>\n",
       "  <tbody>\n",
       "    <tr>\n",
       "      <th>Location</th>\n",
       "      <td>1.000000</td>\n",
       "      <td>0.099918</td>\n",
       "      <td>-0.033247</td>\n",
       "      <td>0.085732</td>\n",
       "      <td>-0.006037</td>\n",
       "      <td>-0.005100</td>\n",
       "      <td>-0.155954</td>\n",
       "      <td>-0.147500</td>\n",
       "      <td>-0.043314</td>\n",
       "      <td>-0.011509</td>\n",
       "      <td>...</td>\n",
       "      <td>0.061993</td>\n",
       "      <td>0.099761</td>\n",
       "      <td>0.107279</td>\n",
       "      <td>0.026147</td>\n",
       "      <td>0.088567</td>\n",
       "      <td>0.120987</td>\n",
       "      <td>0.018257</td>\n",
       "      <td>0.010527</td>\n",
       "      <td>-0.194449</td>\n",
       "      <td>-0.148955</td>\n",
       "    </tr>\n",
       "    <tr>\n",
       "      <th>WindGustDir</th>\n",
       "      <td>0.099918</td>\n",
       "      <td>1.000000</td>\n",
       "      <td>0.430859</td>\n",
       "      <td>0.619892</td>\n",
       "      <td>0.148775</td>\n",
       "      <td>0.061751</td>\n",
       "      <td>-0.190554</td>\n",
       "      <td>-0.244508</td>\n",
       "      <td>0.067350</td>\n",
       "      <td>-0.104656</td>\n",
       "      <td>...</td>\n",
       "      <td>0.007952</td>\n",
       "      <td>0.085679</td>\n",
       "      <td>0.096059</td>\n",
       "      <td>0.053719</td>\n",
       "      <td>-0.118875</td>\n",
       "      <td>-0.022979</td>\n",
       "      <td>0.078431</td>\n",
       "      <td>0.079285</td>\n",
       "      <td>-0.233490</td>\n",
       "      <td>-0.258929</td>\n",
       "    </tr>\n",
       "    <tr>\n",
       "      <th>WindDir9am</th>\n",
       "      <td>-0.033247</td>\n",
       "      <td>0.430859</td>\n",
       "      <td>1.000000</td>\n",
       "      <td>0.320818</td>\n",
       "      <td>0.181461</td>\n",
       "      <td>0.035992</td>\n",
       "      <td>-0.058310</td>\n",
       "      <td>-0.246043</td>\n",
       "      <td>0.098980</td>\n",
       "      <td>-0.130683</td>\n",
       "      <td>...</td>\n",
       "      <td>-0.007907</td>\n",
       "      <td>0.094271</td>\n",
       "      <td>0.165935</td>\n",
       "      <td>0.189645</td>\n",
       "      <td>-0.034289</td>\n",
       "      <td>0.060506</td>\n",
       "      <td>0.115243</td>\n",
       "      <td>0.069308</td>\n",
       "      <td>-0.152185</td>\n",
       "      <td>-0.252951</td>\n",
       "    </tr>\n",
       "    <tr>\n",
       "      <th>WindDir3pm</th>\n",
       "      <td>0.085732</td>\n",
       "      <td>0.619892</td>\n",
       "      <td>0.320818</td>\n",
       "      <td>1.000000</td>\n",
       "      <td>0.128209</td>\n",
       "      <td>0.032203</td>\n",
       "      <td>-0.194123</td>\n",
       "      <td>-0.200750</td>\n",
       "      <td>0.059229</td>\n",
       "      <td>-0.072357</td>\n",
       "      <td>...</td>\n",
       "      <td>0.031568</td>\n",
       "      <td>0.067029</td>\n",
       "      <td>0.054109</td>\n",
       "      <td>-0.004667</td>\n",
       "      <td>-0.120668</td>\n",
       "      <td>-0.021374</td>\n",
       "      <td>0.049014</td>\n",
       "      <td>0.057746</td>\n",
       "      <td>-0.212512</td>\n",
       "      <td>-0.214044</td>\n",
       "    </tr>\n",
       "    <tr>\n",
       "      <th>RainToday</th>\n",
       "      <td>-0.006037</td>\n",
       "      <td>0.148775</td>\n",
       "      <td>0.181461</td>\n",
       "      <td>0.128209</td>\n",
       "      <td>1.000000</td>\n",
       "      <td>0.309098</td>\n",
       "      <td>0.048953</td>\n",
       "      <td>-0.221810</td>\n",
       "      <td>0.550515</td>\n",
       "      <td>-0.218079</td>\n",
       "      <td>...</td>\n",
       "      <td>0.083125</td>\n",
       "      <td>0.085627</td>\n",
       "      <td>0.379451</td>\n",
       "      <td>0.385440</td>\n",
       "      <td>-0.186848</td>\n",
       "      <td>-0.104103</td>\n",
       "      <td>0.297794</td>\n",
       "      <td>0.272034</td>\n",
       "      <td>-0.096946</td>\n",
       "      <td>-0.228515</td>\n",
       "    </tr>\n",
       "    <tr>\n",
       "      <th>RainTomorrow</th>\n",
       "      <td>-0.005100</td>\n",
       "      <td>0.061751</td>\n",
       "      <td>0.035992</td>\n",
       "      <td>0.032203</td>\n",
       "      <td>0.309098</td>\n",
       "      <td>1.000000</td>\n",
       "      <td>0.087428</td>\n",
       "      <td>-0.147467</td>\n",
       "      <td>0.254342</td>\n",
       "      <td>-0.130002</td>\n",
       "      <td>...</td>\n",
       "      <td>0.083904</td>\n",
       "      <td>0.088862</td>\n",
       "      <td>0.271033</td>\n",
       "      <td>0.455358</td>\n",
       "      <td>-0.254816</td>\n",
       "      <td>-0.230418</td>\n",
       "      <td>0.323972</td>\n",
       "      <td>0.388574</td>\n",
       "      <td>-0.018179</td>\n",
       "      <td>-0.183586</td>\n",
       "    </tr>\n",
       "    <tr>\n",
       "      <th>MinTemp</th>\n",
       "      <td>-0.155954</td>\n",
       "      <td>-0.190554</td>\n",
       "      <td>-0.058310</td>\n",
       "      <td>-0.194123</td>\n",
       "      <td>0.048953</td>\n",
       "      <td>0.087428</td>\n",
       "      <td>1.000000</td>\n",
       "      <td>0.749687</td>\n",
       "      <td>0.110800</td>\n",
       "      <td>0.506764</td>\n",
       "      <td>...</td>\n",
       "      <td>0.108522</td>\n",
       "      <td>0.137273</td>\n",
       "      <td>-0.174991</td>\n",
       "      <td>0.070827</td>\n",
       "      <td>-0.475661</td>\n",
       "      <td>-0.495577</td>\n",
       "      <td>0.106177</td>\n",
       "      <td>0.042173</td>\n",
       "      <td>0.906295</td>\n",
       "      <td>0.727222</td>\n",
       "    </tr>\n",
       "    <tr>\n",
       "      <th>MaxTemp</th>\n",
       "      <td>-0.147500</td>\n",
       "      <td>-0.244508</td>\n",
       "      <td>-0.246043</td>\n",
       "      <td>-0.200750</td>\n",
       "      <td>-0.221810</td>\n",
       "      <td>-0.147467</td>\n",
       "      <td>0.749687</td>\n",
       "      <td>1.000000</td>\n",
       "      <td>-0.069981</td>\n",
       "      <td>0.650964</td>\n",
       "      <td>...</td>\n",
       "      <td>-0.008171</td>\n",
       "      <td>0.012266</td>\n",
       "      <td>-0.495781</td>\n",
       "      <td>-0.448116</td>\n",
       "      <td>-0.350980</td>\n",
       "      <td>-0.451691</td>\n",
       "      <td>-0.263634</td>\n",
       "      <td>-0.257752</td>\n",
       "      <td>0.893387</td>\n",
       "      <td>0.984841</td>\n",
       "    </tr>\n",
       "    <tr>\n",
       "      <th>Rainfall</th>\n",
       "      <td>-0.043314</td>\n",
       "      <td>0.067350</td>\n",
       "      <td>0.098980</td>\n",
       "      <td>0.059229</td>\n",
       "      <td>0.550515</td>\n",
       "      <td>0.254342</td>\n",
       "      <td>0.110800</td>\n",
       "      <td>-0.069981</td>\n",
       "      <td>1.000000</td>\n",
       "      <td>-0.077239</td>\n",
       "      <td>...</td>\n",
       "      <td>0.050584</td>\n",
       "      <td>0.044112</td>\n",
       "      <td>0.263625</td>\n",
       "      <td>0.277625</td>\n",
       "      <td>-0.180606</td>\n",
       "      <td>-0.137302</td>\n",
       "      <td>0.217169</td>\n",
       "      <td>0.191433</td>\n",
       "      <td>0.013713</td>\n",
       "      <td>-0.074627</td>\n",
       "    </tr>\n",
       "    <tr>\n",
       "      <th>Evaporation</th>\n",
       "      <td>-0.011509</td>\n",
       "      <td>-0.104656</td>\n",
       "      <td>-0.130683</td>\n",
       "      <td>-0.072357</td>\n",
       "      <td>-0.218079</td>\n",
       "      <td>-0.130002</td>\n",
       "      <td>0.506764</td>\n",
       "      <td>0.650964</td>\n",
       "      <td>-0.077239</td>\n",
       "      <td>1.000000</td>\n",
       "      <td>...</td>\n",
       "      <td>0.193154</td>\n",
       "      <td>0.124345</td>\n",
       "      <td>-0.554232</td>\n",
       "      <td>-0.422436</td>\n",
       "      <td>-0.297319</td>\n",
       "      <td>-0.325954</td>\n",
       "      <td>-0.199809</td>\n",
       "      <td>-0.202366</td>\n",
       "      <td>0.593122</td>\n",
       "      <td>0.630727</td>\n",
       "    </tr>\n",
       "    <tr>\n",
       "      <th>Sunshine</th>\n",
       "      <td>-0.033941</td>\n",
       "      <td>-0.087355</td>\n",
       "      <td>-0.108689</td>\n",
       "      <td>-0.050795</td>\n",
       "      <td>-0.328904</td>\n",
       "      <td>-0.453407</td>\n",
       "      <td>0.076087</td>\n",
       "      <td>0.463913</td>\n",
       "      <td>-0.246379</td>\n",
       "      <td>0.369250</td>\n",
       "      <td>...</td>\n",
       "      <td>-0.013842</td>\n",
       "      <td>0.029200</td>\n",
       "      <td>-0.500343</td>\n",
       "      <td>-0.629299</td>\n",
       "      <td>0.043330</td>\n",
       "      <td>-0.020632</td>\n",
       "      <td>-0.677939</td>\n",
       "      <td>-0.702022</td>\n",
       "      <td>0.289038</td>\n",
       "      <td>0.486129</td>\n",
       "    </tr>\n",
       "    <tr>\n",
       "      <th>WindGustSpeed</th>\n",
       "      <td>0.085603</td>\n",
       "      <td>0.119678</td>\n",
       "      <td>0.023396</td>\n",
       "      <td>0.113687</td>\n",
       "      <td>0.146276</td>\n",
       "      <td>0.233158</td>\n",
       "      <td>0.118054</td>\n",
       "      <td>0.035531</td>\n",
       "      <td>0.106308</td>\n",
       "      <td>0.209566</td>\n",
       "      <td>...</td>\n",
       "      <td>0.608852</td>\n",
       "      <td>0.685236</td>\n",
       "      <td>-0.193410</td>\n",
       "      <td>-0.042653</td>\n",
       "      <td>-0.430363</td>\n",
       "      <td>-0.383683</td>\n",
       "      <td>0.088129</td>\n",
       "      <td>0.131590</td>\n",
       "      <td>0.085520</td>\n",
       "      <td>-0.000382</td>\n",
       "    </tr>\n",
       "    <tr>\n",
       "      <th>WindSpeed9am</th>\n",
       "      <td>0.061993</td>\n",
       "      <td>0.007952</td>\n",
       "      <td>-0.007907</td>\n",
       "      <td>0.031568</td>\n",
       "      <td>0.083125</td>\n",
       "      <td>0.083904</td>\n",
       "      <td>0.108522</td>\n",
       "      <td>-0.008171</td>\n",
       "      <td>0.050584</td>\n",
       "      <td>0.193154</td>\n",
       "      <td>...</td>\n",
       "      <td>1.000000</td>\n",
       "      <td>0.502226</td>\n",
       "      <td>-0.236795</td>\n",
       "      <td>-0.058449</td>\n",
       "      <td>-0.201518</td>\n",
       "      <td>-0.155484</td>\n",
       "      <td>0.034908</td>\n",
       "      <td>0.062507</td>\n",
       "      <td>0.053749</td>\n",
       "      <td>-0.018357</td>\n",
       "    </tr>\n",
       "    <tr>\n",
       "      <th>WindSpeed3pm</th>\n",
       "      <td>0.099761</td>\n",
       "      <td>0.085679</td>\n",
       "      <td>0.094271</td>\n",
       "      <td>0.067029</td>\n",
       "      <td>0.085627</td>\n",
       "      <td>0.088862</td>\n",
       "      <td>0.137273</td>\n",
       "      <td>0.012266</td>\n",
       "      <td>0.044112</td>\n",
       "      <td>0.124345</td>\n",
       "      <td>...</td>\n",
       "      <td>0.502226</td>\n",
       "      <td>1.000000</td>\n",
       "      <td>-0.100626</td>\n",
       "      <td>0.031843</td>\n",
       "      <td>-0.293155</td>\n",
       "      <td>-0.252095</td>\n",
       "      <td>0.068224</td>\n",
       "      <td>0.041475</td>\n",
       "      <td>0.114043</td>\n",
       "      <td>-0.009436</td>\n",
       "    </tr>\n",
       "    <tr>\n",
       "      <th>Humidity9am</th>\n",
       "      <td>0.107279</td>\n",
       "      <td>0.096059</td>\n",
       "      <td>0.165935</td>\n",
       "      <td>0.054109</td>\n",
       "      <td>0.379451</td>\n",
       "      <td>0.271033</td>\n",
       "      <td>-0.174991</td>\n",
       "      <td>-0.495781</td>\n",
       "      <td>0.263625</td>\n",
       "      <td>-0.554232</td>\n",
       "      <td>...</td>\n",
       "      <td>-0.236795</td>\n",
       "      <td>-0.100626</td>\n",
       "      <td>1.000000</td>\n",
       "      <td>0.685697</td>\n",
       "      <td>0.114575</td>\n",
       "      <td>0.172972</td>\n",
       "      <td>0.438962</td>\n",
       "      <td>0.348707</td>\n",
       "      <td>-0.423598</td>\n",
       "      <td>-0.487758</td>\n",
       "    </tr>\n",
       "    <tr>\n",
       "      <th>Humidity3pm</th>\n",
       "      <td>0.026147</td>\n",
       "      <td>0.053719</td>\n",
       "      <td>0.189645</td>\n",
       "      <td>-0.004667</td>\n",
       "      <td>0.385440</td>\n",
       "      <td>0.455358</td>\n",
       "      <td>0.070827</td>\n",
       "      <td>-0.448116</td>\n",
       "      <td>0.277625</td>\n",
       "      <td>-0.422436</td>\n",
       "      <td>...</td>\n",
       "      <td>-0.058449</td>\n",
       "      <td>0.031843</td>\n",
       "      <td>0.685697</td>\n",
       "      <td>1.000000</td>\n",
       "      <td>-0.063454</td>\n",
       "      <td>0.024109</td>\n",
       "      <td>0.509223</td>\n",
       "      <td>0.510996</td>\n",
       "      <td>-0.151614</td>\n",
       "      <td>-0.497245</td>\n",
       "    </tr>\n",
       "    <tr>\n",
       "      <th>Pressure9am</th>\n",
       "      <td>0.088567</td>\n",
       "      <td>-0.118875</td>\n",
       "      <td>-0.034289</td>\n",
       "      <td>-0.120668</td>\n",
       "      <td>-0.186848</td>\n",
       "      <td>-0.254816</td>\n",
       "      <td>-0.475661</td>\n",
       "      <td>-0.350980</td>\n",
       "      <td>-0.180606</td>\n",
       "      <td>-0.297319</td>\n",
       "      <td>...</td>\n",
       "      <td>-0.201518</td>\n",
       "      <td>-0.293155</td>\n",
       "      <td>0.114575</td>\n",
       "      <td>-0.063454</td>\n",
       "      <td>1.000000</td>\n",
       "      <td>0.961538</td>\n",
       "      <td>-0.150427</td>\n",
       "      <td>-0.166334</td>\n",
       "      <td>-0.443410</td>\n",
       "      <td>-0.310774</td>\n",
       "    </tr>\n",
       "    <tr>\n",
       "      <th>Pressure3pm</th>\n",
       "      <td>0.120987</td>\n",
       "      <td>-0.022979</td>\n",
       "      <td>0.060506</td>\n",
       "      <td>-0.021374</td>\n",
       "      <td>-0.104103</td>\n",
       "      <td>-0.230418</td>\n",
       "      <td>-0.495577</td>\n",
       "      <td>-0.451691</td>\n",
       "      <td>-0.137302</td>\n",
       "      <td>-0.325954</td>\n",
       "      <td>...</td>\n",
       "      <td>-0.155484</td>\n",
       "      <td>-0.252095</td>\n",
       "      <td>0.172972</td>\n",
       "      <td>0.024109</td>\n",
       "      <td>0.961538</td>\n",
       "      <td>1.000000</td>\n",
       "      <td>-0.081791</td>\n",
       "      <td>-0.103173</td>\n",
       "      <td>-0.500509</td>\n",
       "      <td>-0.421318</td>\n",
       "    </tr>\n",
       "    <tr>\n",
       "      <th>Cloud9am</th>\n",
       "      <td>0.018257</td>\n",
       "      <td>0.078431</td>\n",
       "      <td>0.115243</td>\n",
       "      <td>0.049014</td>\n",
       "      <td>0.297794</td>\n",
       "      <td>0.323972</td>\n",
       "      <td>0.106177</td>\n",
       "      <td>-0.263634</td>\n",
       "      <td>0.217169</td>\n",
       "      <td>-0.199809</td>\n",
       "      <td>...</td>\n",
       "      <td>0.034908</td>\n",
       "      <td>0.068224</td>\n",
       "      <td>0.438962</td>\n",
       "      <td>0.509223</td>\n",
       "      <td>-0.150427</td>\n",
       "      <td>-0.081791</td>\n",
       "      <td>1.000000</td>\n",
       "      <td>0.614380</td>\n",
       "      <td>-0.109591</td>\n",
       "      <td>-0.281213</td>\n",
       "    </tr>\n",
       "    <tr>\n",
       "      <th>Cloud3pm</th>\n",
       "      <td>0.010527</td>\n",
       "      <td>0.079285</td>\n",
       "      <td>0.069308</td>\n",
       "      <td>0.057746</td>\n",
       "      <td>0.272034</td>\n",
       "      <td>0.388574</td>\n",
       "      <td>0.042173</td>\n",
       "      <td>-0.257752</td>\n",
       "      <td>0.191433</td>\n",
       "      <td>-0.202366</td>\n",
       "      <td>...</td>\n",
       "      <td>0.062507</td>\n",
       "      <td>0.041475</td>\n",
       "      <td>0.348707</td>\n",
       "      <td>0.510996</td>\n",
       "      <td>-0.166334</td>\n",
       "      <td>-0.103173</td>\n",
       "      <td>0.614380</td>\n",
       "      <td>1.000000</td>\n",
       "      <td>-0.107885</td>\n",
       "      <td>-0.297230</td>\n",
       "    </tr>\n",
       "    <tr>\n",
       "      <th>Temp9am</th>\n",
       "      <td>-0.194449</td>\n",
       "      <td>-0.233490</td>\n",
       "      <td>-0.152185</td>\n",
       "      <td>-0.212512</td>\n",
       "      <td>-0.096946</td>\n",
       "      <td>-0.018179</td>\n",
       "      <td>0.906295</td>\n",
       "      <td>0.893387</td>\n",
       "      <td>0.013713</td>\n",
       "      <td>0.593122</td>\n",
       "      <td>...</td>\n",
       "      <td>0.053749</td>\n",
       "      <td>0.114043</td>\n",
       "      <td>-0.423598</td>\n",
       "      <td>-0.151614</td>\n",
       "      <td>-0.443410</td>\n",
       "      <td>-0.500509</td>\n",
       "      <td>-0.109591</td>\n",
       "      <td>-0.107885</td>\n",
       "      <td>1.000000</td>\n",
       "      <td>0.870620</td>\n",
       "    </tr>\n",
       "    <tr>\n",
       "      <th>Temp3pm</th>\n",
       "      <td>-0.148955</td>\n",
       "      <td>-0.258929</td>\n",
       "      <td>-0.252951</td>\n",
       "      <td>-0.214044</td>\n",
       "      <td>-0.228515</td>\n",
       "      <td>-0.183586</td>\n",
       "      <td>0.727222</td>\n",
       "      <td>0.984841</td>\n",
       "      <td>-0.074627</td>\n",
       "      <td>0.630727</td>\n",
       "      <td>...</td>\n",
       "      <td>-0.018357</td>\n",
       "      <td>-0.009436</td>\n",
       "      <td>-0.487758</td>\n",
       "      <td>-0.497245</td>\n",
       "      <td>-0.310774</td>\n",
       "      <td>-0.421318</td>\n",
       "      <td>-0.281213</td>\n",
       "      <td>-0.297230</td>\n",
       "      <td>0.870620</td>\n",
       "      <td>1.000000</td>\n",
       "    </tr>\n",
       "  </tbody>\n",
       "</table>\n",
       "<p>22 rows × 22 columns</p>\n",
       "</div>"
      ],
      "text/plain": [
       "               Location  WindGustDir  WindDir9am  WindDir3pm  RainToday  \\\n",
       "Location       1.000000     0.099918   -0.033247    0.085732  -0.006037   \n",
       "WindGustDir    0.099918     1.000000    0.430859    0.619892   0.148775   \n",
       "WindDir9am    -0.033247     0.430859    1.000000    0.320818   0.181461   \n",
       "WindDir3pm     0.085732     0.619892    0.320818    1.000000   0.128209   \n",
       "RainToday     -0.006037     0.148775    0.181461    0.128209   1.000000   \n",
       "RainTomorrow  -0.005100     0.061751    0.035992    0.032203   0.309098   \n",
       "MinTemp       -0.155954    -0.190554   -0.058310   -0.194123   0.048953   \n",
       "MaxTemp       -0.147500    -0.244508   -0.246043   -0.200750  -0.221810   \n",
       "Rainfall      -0.043314     0.067350    0.098980    0.059229   0.550515   \n",
       "Evaporation   -0.011509    -0.104656   -0.130683   -0.072357  -0.218079   \n",
       "Sunshine      -0.033941    -0.087355   -0.108689   -0.050795  -0.328904   \n",
       "WindGustSpeed  0.085603     0.119678    0.023396    0.113687   0.146276   \n",
       "WindSpeed9am   0.061993     0.007952   -0.007907    0.031568   0.083125   \n",
       "WindSpeed3pm   0.099761     0.085679    0.094271    0.067029   0.085627   \n",
       "Humidity9am    0.107279     0.096059    0.165935    0.054109   0.379451   \n",
       "Humidity3pm    0.026147     0.053719    0.189645   -0.004667   0.385440   \n",
       "Pressure9am    0.088567    -0.118875   -0.034289   -0.120668  -0.186848   \n",
       "Pressure3pm    0.120987    -0.022979    0.060506   -0.021374  -0.104103   \n",
       "Cloud9am       0.018257     0.078431    0.115243    0.049014   0.297794   \n",
       "Cloud3pm       0.010527     0.079285    0.069308    0.057746   0.272034   \n",
       "Temp9am       -0.194449    -0.233490   -0.152185   -0.212512  -0.096946   \n",
       "Temp3pm       -0.148955    -0.258929   -0.252951   -0.214044  -0.228515   \n",
       "\n",
       "               RainTomorrow   MinTemp   MaxTemp  Rainfall  Evaporation  ...  \\\n",
       "Location          -0.005100 -0.155954 -0.147500 -0.043314    -0.011509  ...   \n",
       "WindGustDir        0.061751 -0.190554 -0.244508  0.067350    -0.104656  ...   \n",
       "WindDir9am         0.035992 -0.058310 -0.246043  0.098980    -0.130683  ...   \n",
       "WindDir3pm         0.032203 -0.194123 -0.200750  0.059229    -0.072357  ...   \n",
       "RainToday          0.309098  0.048953 -0.221810  0.550515    -0.218079  ...   \n",
       "RainTomorrow       1.000000  0.087428 -0.147467  0.254342    -0.130002  ...   \n",
       "MinTemp            0.087428  1.000000  0.749687  0.110800     0.506764  ...   \n",
       "MaxTemp           -0.147467  0.749687  1.000000 -0.069981     0.650964  ...   \n",
       "Rainfall           0.254342  0.110800 -0.069981  1.000000    -0.077239  ...   \n",
       "Evaporation       -0.130002  0.506764  0.650964 -0.077239     1.000000  ...   \n",
       "Sunshine          -0.453407  0.076087  0.463913 -0.246379     0.369250  ...   \n",
       "WindGustSpeed      0.233158  0.118054  0.035531  0.106308     0.209566  ...   \n",
       "WindSpeed9am       0.083904  0.108522 -0.008171  0.050584     0.193154  ...   \n",
       "WindSpeed3pm       0.088862  0.137273  0.012266  0.044112     0.124345  ...   \n",
       "Humidity9am        0.271033 -0.174991 -0.495781  0.263625    -0.554232  ...   \n",
       "Humidity3pm        0.455358  0.070827 -0.448116  0.277625    -0.422436  ...   \n",
       "Pressure9am       -0.254816 -0.475661 -0.350980 -0.180606    -0.297319  ...   \n",
       "Pressure3pm       -0.230418 -0.495577 -0.451691 -0.137302    -0.325954  ...   \n",
       "Cloud9am           0.323972  0.106177 -0.263634  0.217169    -0.199809  ...   \n",
       "Cloud3pm           0.388574  0.042173 -0.257752  0.191433    -0.202366  ...   \n",
       "Temp9am           -0.018179  0.906295  0.893387  0.013713     0.593122  ...   \n",
       "Temp3pm           -0.183586  0.727222  0.984841 -0.074627     0.630727  ...   \n",
       "\n",
       "               WindSpeed9am  WindSpeed3pm  Humidity9am  Humidity3pm  \\\n",
       "Location           0.061993      0.099761     0.107279     0.026147   \n",
       "WindGustDir        0.007952      0.085679     0.096059     0.053719   \n",
       "WindDir9am        -0.007907      0.094271     0.165935     0.189645   \n",
       "WindDir3pm         0.031568      0.067029     0.054109    -0.004667   \n",
       "RainToday          0.083125      0.085627     0.379451     0.385440   \n",
       "RainTomorrow       0.083904      0.088862     0.271033     0.455358   \n",
       "MinTemp            0.108522      0.137273    -0.174991     0.070827   \n",
       "MaxTemp           -0.008171      0.012266    -0.495781    -0.448116   \n",
       "Rainfall           0.050584      0.044112     0.263625     0.277625   \n",
       "Evaporation        0.193154      0.124345    -0.554232    -0.422436   \n",
       "Sunshine          -0.013842      0.029200    -0.500343    -0.629299   \n",
       "WindGustSpeed      0.608852      0.685236    -0.193410    -0.042653   \n",
       "WindSpeed9am       1.000000      0.502226    -0.236795    -0.058449   \n",
       "WindSpeed3pm       0.502226      1.000000    -0.100626     0.031843   \n",
       "Humidity9am       -0.236795     -0.100626     1.000000     0.685697   \n",
       "Humidity3pm       -0.058449      0.031843     0.685697     1.000000   \n",
       "Pressure9am       -0.201518     -0.293155     0.114575    -0.063454   \n",
       "Pressure3pm       -0.155484     -0.252095     0.172972     0.024109   \n",
       "Cloud9am           0.034908      0.068224     0.438962     0.509223   \n",
       "Cloud3pm           0.062507      0.041475     0.348707     0.510996   \n",
       "Temp9am            0.053749      0.114043    -0.423598    -0.151614   \n",
       "Temp3pm           -0.018357     -0.009436    -0.487758    -0.497245   \n",
       "\n",
       "               Pressure9am  Pressure3pm  Cloud9am  Cloud3pm   Temp9am  \\\n",
       "Location          0.088567     0.120987  0.018257  0.010527 -0.194449   \n",
       "WindGustDir      -0.118875    -0.022979  0.078431  0.079285 -0.233490   \n",
       "WindDir9am       -0.034289     0.060506  0.115243  0.069308 -0.152185   \n",
       "WindDir3pm       -0.120668    -0.021374  0.049014  0.057746 -0.212512   \n",
       "RainToday        -0.186848    -0.104103  0.297794  0.272034 -0.096946   \n",
       "RainTomorrow     -0.254816    -0.230418  0.323972  0.388574 -0.018179   \n",
       "MinTemp          -0.475661    -0.495577  0.106177  0.042173  0.906295   \n",
       "MaxTemp          -0.350980    -0.451691 -0.263634 -0.257752  0.893387   \n",
       "Rainfall         -0.180606    -0.137302  0.217169  0.191433  0.013713   \n",
       "Evaporation      -0.297319    -0.325954 -0.199809 -0.202366  0.593122   \n",
       "Sunshine          0.043330    -0.020632 -0.677939 -0.702022  0.289038   \n",
       "WindGustSpeed    -0.430363    -0.383683  0.088129  0.131590  0.085520   \n",
       "WindSpeed9am     -0.201518    -0.155484  0.034908  0.062507  0.053749   \n",
       "WindSpeed3pm     -0.293155    -0.252095  0.068224  0.041475  0.114043   \n",
       "Humidity9am       0.114575     0.172972  0.438962  0.348707 -0.423598   \n",
       "Humidity3pm      -0.063454     0.024109  0.509223  0.510996 -0.151614   \n",
       "Pressure9am       1.000000     0.961538 -0.150427 -0.166334 -0.443410   \n",
       "Pressure3pm       0.961538     1.000000 -0.081791 -0.103173 -0.500509   \n",
       "Cloud9am         -0.150427    -0.081791  1.000000  0.614380 -0.109591   \n",
       "Cloud3pm         -0.166334    -0.103173  0.614380  1.000000 -0.107885   \n",
       "Temp9am          -0.443410    -0.500509 -0.109591 -0.107885  1.000000   \n",
       "Temp3pm          -0.310774    -0.421318 -0.281213 -0.297230  0.870620   \n",
       "\n",
       "                Temp3pm  \n",
       "Location      -0.148955  \n",
       "WindGustDir   -0.258929  \n",
       "WindDir9am    -0.252951  \n",
       "WindDir3pm    -0.214044  \n",
       "RainToday     -0.228515  \n",
       "RainTomorrow  -0.183586  \n",
       "MinTemp        0.727222  \n",
       "MaxTemp        0.984841  \n",
       "Rainfall      -0.074627  \n",
       "Evaporation    0.630727  \n",
       "Sunshine       0.486129  \n",
       "WindGustSpeed -0.000382  \n",
       "WindSpeed9am  -0.018357  \n",
       "WindSpeed3pm  -0.009436  \n",
       "Humidity9am   -0.487758  \n",
       "Humidity3pm   -0.497245  \n",
       "Pressure9am   -0.310774  \n",
       "Pressure3pm   -0.421318  \n",
       "Cloud9am      -0.281213  \n",
       "Cloud3pm      -0.297230  \n",
       "Temp9am        0.870620  \n",
       "Temp3pm        1.000000  \n",
       "\n",
       "[22 rows x 22 columns]"
      ]
     },
     "execution_count": 13,
     "metadata": {},
     "output_type": "execute_result"
    }
   ],
   "source": [
    "df2.corr()"
   ]
  },
  {
   "cell_type": "code",
   "execution_count": 14,
   "id": "0058fb96",
   "metadata": {
    "executionInfo": {
     "elapsed": 3,
     "status": "ok",
     "timestamp": 1637734154357,
     "user": {
      "displayName": "Ian Lam",
      "photoUrl": "https://lh3.googleusercontent.com/a/default-user=s64",
      "userId": "11070752889004136904"
     },
     "user_tz": -480
    },
    "id": "0058fb96"
   },
   "outputs": [],
   "source": [
    "X = df.drop(columns='RainTomorrow') \n",
    "y = df['RainTomorrow'] "
   ]
  },
  {
   "cell_type": "code",
   "execution_count": 14,
   "id": "ac782104",
   "metadata": {
    "executionInfo": {
     "elapsed": 346,
     "status": "ok",
     "timestamp": 1637734155073,
     "user": {
      "displayName": "Ian Lam",
      "photoUrl": "https://lh3.googleusercontent.com/a/default-user=s64",
      "userId": "11070752889004136904"
     },
     "user_tz": -480
    },
    "id": "ac782104"
   },
   "outputs": [],
   "source": [
    "from sklearn.model_selection import train_test_split\n",
    "X_train, X_test, y_train, y_test = train_test_split(X, y, test_size=0.2, random_state=123)"
   ]
  },
  {
   "cell_type": "markdown",
   "id": "9f2705f9",
   "metadata": {},
   "source": [
    "# XGBoost"
   ]
  },
  {
   "cell_type": "code",
   "execution_count": 15,
   "id": "4467bd97",
   "metadata": {
    "colab": {
     "base_uri": "https://localhost:8080/"
    },
    "executionInfo": {
     "elapsed": 3707,
     "status": "ok",
     "timestamp": 1637734160387,
     "user": {
      "displayName": "Ian Lam",
      "photoUrl": "https://lh3.googleusercontent.com/a/default-user=s64",
      "userId": "11070752889004136904"
     },
     "user_tz": -480
    },
    "id": "4467bd97",
    "outputId": "95519e88-9191-4e90-8cc7-da4c2e14fb13"
   },
   "outputs": [
    {
     "name": "stderr",
     "output_type": "stream",
     "text": [
      "C:\\Users\\user\\anaconda3\\lib\\site-packages\\xgboost\\sklearn.py:1224: UserWarning: The use of label encoder in XGBClassifier is deprecated and will be removed in a future release. To remove this warning, do the following: 1) Pass option use_label_encoder=False when constructing XGBClassifier object; and 2) Encode your labels (y) as integers starting with 0, i.e. 0, 1, 2, ..., [num_class - 1].\n",
      "  warnings.warn(label_encoder_deprecation_msg, UserWarning)\n"
     ]
    },
    {
     "name": "stdout",
     "output_type": "stream",
     "text": [
      "[15:02:10] WARNING: C:/Users/Administrator/workspace/xgboost-win64_release_1.5.0/src/learner.cc:1115: Starting in XGBoost 1.3.0, the default evaluation metric used with the objective 'binary:logistic' was changed from 'error' to 'logloss'. Explicitly set eval_metric if you'd like to restore the old behavior.\n"
     ]
    },
    {
     "data": {
      "text/plain": [
       "XGBClassifier(base_score=0.5, booster='gbtree', colsample_bylevel=1,\n",
       "              colsample_bynode=1, colsample_bytree=1, enable_categorical=False,\n",
       "              gamma=0, gpu_id=-1, importance_type=None,\n",
       "              interaction_constraints='', learning_rate=0.05, max_delta_step=0,\n",
       "              max_depth=6, min_child_weight=1, missing=nan,\n",
       "              monotone_constraints='()', n_estimators=100, n_jobs=8,\n",
       "              num_parallel_tree=1, predictor='auto', random_state=0,\n",
       "              reg_alpha=0, reg_lambda=1, scale_pos_weight=1, subsample=1,\n",
       "              tree_method='exact', validate_parameters=1, verbosity=None)"
      ]
     },
     "execution_count": 15,
     "metadata": {},
     "output_type": "execute_result"
    }
   ],
   "source": [
    "from xgboost import XGBClassifier\n",
    "clf = XGBClassifier(n_estimators=100, learning_rate=0.05)\n",
    "clf.fit(X_train, y_train)"
   ]
  },
  {
   "cell_type": "code",
   "execution_count": 16,
   "id": "aed1b974",
   "metadata": {
    "colab": {
     "base_uri": "https://localhost:8080/"
    },
    "executionInfo": {
     "elapsed": 8,
     "status": "ok",
     "timestamp": 1637734160387,
     "user": {
      "displayName": "Ian Lam",
      "photoUrl": "https://lh3.googleusercontent.com/a/default-user=s64",
      "userId": "11070752889004136904"
     },
     "user_tz": -480
    },
    "id": "aed1b974",
    "outputId": "9021ada5-e71e-4d7a-fc10-b9ed512e4249"
   },
   "outputs": [
    {
     "data": {
      "text/plain": [
       "array([0, 0, 0, ..., 0, 0, 0])"
      ]
     },
     "execution_count": 16,
     "metadata": {},
     "output_type": "execute_result"
    }
   ],
   "source": [
    "y_pred = clf.predict(X_test)\n",
    "y_pred"
   ]
  },
  {
   "cell_type": "code",
   "execution_count": 17,
   "id": "75d6a7ad",
   "metadata": {
    "colab": {
     "base_uri": "https://localhost:8080/",
     "height": 206
    },
    "executionInfo": {
     "elapsed": 6,
     "status": "ok",
     "timestamp": 1637734160388,
     "user": {
      "displayName": "Ian Lam",
      "photoUrl": "https://lh3.googleusercontent.com/a/default-user=s64",
      "userId": "11070752889004136904"
     },
     "user_tz": -480
    },
    "id": "75d6a7ad",
    "outputId": "b74678ed-640c-4324-e6d2-68bfdd2a2887"
   },
   "outputs": [
    {
     "data": {
      "text/html": [
       "<div>\n",
       "<style scoped>\n",
       "    .dataframe tbody tr th:only-of-type {\n",
       "        vertical-align: middle;\n",
       "    }\n",
       "\n",
       "    .dataframe tbody tr th {\n",
       "        vertical-align: top;\n",
       "    }\n",
       "\n",
       "    .dataframe thead th {\n",
       "        text-align: right;\n",
       "    }\n",
       "</style>\n",
       "<table border=\"1\" class=\"dataframe\">\n",
       "  <thead>\n",
       "    <tr style=\"text-align: right;\">\n",
       "      <th></th>\n",
       "      <th>pred</th>\n",
       "      <th>real</th>\n",
       "    </tr>\n",
       "  </thead>\n",
       "  <tbody>\n",
       "    <tr>\n",
       "      <th>0</th>\n",
       "      <td>0</td>\n",
       "      <td>0</td>\n",
       "    </tr>\n",
       "    <tr>\n",
       "      <th>1</th>\n",
       "      <td>0</td>\n",
       "      <td>0</td>\n",
       "    </tr>\n",
       "    <tr>\n",
       "      <th>2</th>\n",
       "      <td>0</td>\n",
       "      <td>1</td>\n",
       "    </tr>\n",
       "    <tr>\n",
       "      <th>3</th>\n",
       "      <td>0</td>\n",
       "      <td>0</td>\n",
       "    </tr>\n",
       "    <tr>\n",
       "      <th>4</th>\n",
       "      <td>0</td>\n",
       "      <td>0</td>\n",
       "    </tr>\n",
       "  </tbody>\n",
       "</table>\n",
       "</div>"
      ],
      "text/plain": [
       "   pred  real\n",
       "0     0     0\n",
       "1     0     0\n",
       "2     0     1\n",
       "3     0     0\n",
       "4     0     0"
      ]
     },
     "execution_count": 17,
     "metadata": {},
     "output_type": "execute_result"
    }
   ],
   "source": [
    "a = pd.DataFrame() \n",
    "a['pred'] = list(y_pred)\n",
    "a['real'] = list(y_test)\n",
    "a.head()"
   ]
  },
  {
   "cell_type": "code",
   "execution_count": 18,
   "id": "6e557773",
   "metadata": {
    "colab": {
     "base_uri": "https://localhost:8080/"
    },
    "executionInfo": {
     "elapsed": 4,
     "status": "ok",
     "timestamp": 1637734161472,
     "user": {
      "displayName": "Ian Lam",
      "photoUrl": "https://lh3.googleusercontent.com/a/default-user=s64",
      "userId": "11070752889004136904"
     },
     "user_tz": -480
    },
    "id": "6e557773",
    "outputId": "13117651-3d6a-4369-dd9e-80ad9932fc83"
   },
   "outputs": [
    {
     "data": {
      "text/plain": [
       "0    9553\n",
       "1    1731\n",
       "Name: pred, dtype: int64"
      ]
     },
     "execution_count": 18,
     "metadata": {},
     "output_type": "execute_result"
    }
   ],
   "source": [
    "a['pred'].value_counts()"
   ]
  },
  {
   "cell_type": "code",
   "execution_count": 19,
   "id": "9589a10d",
   "metadata": {
    "colab": {
     "base_uri": "https://localhost:8080/"
    },
    "executionInfo": {
     "elapsed": 4,
     "status": "ok",
     "timestamp": 1637734162399,
     "user": {
      "displayName": "Ian Lam",
      "photoUrl": "https://lh3.googleusercontent.com/a/default-user=s64",
      "userId": "11070752889004136904"
     },
     "user_tz": -480
    },
    "id": "9589a10d",
    "outputId": "6e309bec-a085-4866-f311-1c58c81ff70a"
   },
   "outputs": [
    {
     "data": {
      "text/plain": [
       "0    8786\n",
       "1    2498\n",
       "Name: real, dtype: int64"
      ]
     },
     "execution_count": 19,
     "metadata": {},
     "output_type": "execute_result"
    }
   ],
   "source": [
    "a['real'].value_counts()"
   ]
  },
  {
   "cell_type": "code",
   "execution_count": 20,
   "id": "d1920f0d",
   "metadata": {
    "colab": {
     "base_uri": "https://localhost:8080/"
    },
    "executionInfo": {
     "elapsed": 257,
     "status": "ok",
     "timestamp": 1637734165299,
     "user": {
      "displayName": "Ian Lam",
      "photoUrl": "https://lh3.googleusercontent.com/a/default-user=s64",
      "userId": "11070752889004136904"
     },
     "user_tz": -480
    },
    "id": "d1920f0d",
    "outputId": "27c314bb-a46a-49a0-bb3e-d033bd3a5a2a"
   },
   "outputs": [
    {
     "data": {
      "text/plain": [
       "0.8605990783410138"
      ]
     },
     "execution_count": 20,
     "metadata": {},
     "output_type": "execute_result"
    }
   ],
   "source": [
    "from sklearn.metrics import accuracy_score\n",
    "score = accuracy_score(y_pred, y_test)\n",
    "score"
   ]
  },
  {
   "cell_type": "code",
   "execution_count": 21,
   "id": "e2470478",
   "metadata": {
    "colab": {
     "base_uri": "https://localhost:8080/",
     "height": 265
    },
    "executionInfo": {
     "elapsed": 592,
     "status": "ok",
     "timestamp": 1637734166906,
     "user": {
      "displayName": "Ian Lam",
      "photoUrl": "https://lh3.googleusercontent.com/a/default-user=s64",
      "userId": "11070752889004136904"
     },
     "user_tz": -480
    },
    "id": "e2470478",
    "outputId": "5fbb80c9-ae00-4bc6-ee38-7d046f9700c0"
   },
   "outputs": [
    {
     "data": {
      "image/png": "[encoded data removed]",
      "text/plain": [
       "<Figure size 432x288 with 1 Axes>"
      ]
     },
     "metadata": {
      "needs_background": "light"
     },
     "output_type": "display_data"
    }
   ],
   "source": [
    "y_pred_proba = clf.predict_proba(X_test)\n",
    "from sklearn.metrics import roc_curve\n",
    "fpr, tpr, thres = roc_curve(y_test, y_pred_proba[:,1])\n",
    "import matplotlib.pyplot as plt\n",
    "plt.plot(fpr, tpr)\n",
    "plt.show()"
   ]
  },
  {
   "cell_type": "code",
   "execution_count": 22,
   "id": "1f7f6d8a",
   "metadata": {
    "colab": {
     "base_uri": "https://localhost:8080/"
    },
    "executionInfo": {
     "elapsed": 415,
     "status": "ok",
     "timestamp": 1637734168975,
     "user": {
      "displayName": "Ian Lam",
      "photoUrl": "https://lh3.googleusercontent.com/a/default-user=s64",
      "userId": "11070752889004136904"
     },
     "user_tz": -480
    },
    "id": "1f7f6d8a",
    "outputId": "45839b12-93c1-4289-c81b-7471325aa71b"
   },
   "outputs": [
    {
     "data": {
      "text/plain": [
       "0.899169779711773"
      ]
     },
     "execution_count": 22,
     "metadata": {},
     "output_type": "execute_result"
    }
   ],
   "source": [
    "from sklearn.metrics import roc_auc_score\n",
    "roc_score = roc_auc_score(y_test, y_pred_proba[:,1])\n",
    "roc_score"
   ]
  },
  {
   "cell_type": "code",
   "execution_count": 23,
   "id": "d8ab7858",
   "metadata": {
    "colab": {
     "base_uri": "https://localhost:8080/",
     "height": 708
    },
    "executionInfo": {
     "elapsed": 4,
     "status": "ok",
     "timestamp": 1637734169398,
     "user": {
      "displayName": "Ian Lam",
      "photoUrl": "https://lh3.googleusercontent.com/a/default-user=s64",
      "userId": "11070752889004136904"
     },
     "user_tz": -480
    },
    "id": "d8ab7858",
    "outputId": "b8c808fc-6df0-42c9-9ebe-6af7a0948f35"
   },
   "outputs": [
    {
     "data": {
      "text/html": [
       "<div>\n",
       "<style scoped>\n",
       "    .dataframe tbody tr th:only-of-type {\n",
       "        vertical-align: middle;\n",
       "    }\n",
       "\n",
       "    .dataframe tbody tr th {\n",
       "        vertical-align: top;\n",
       "    }\n",
       "\n",
       "    .dataframe thead th {\n",
       "        text-align: right;\n",
       "    }\n",
       "</style>\n",
       "<table border=\"1\" class=\"dataframe\">\n",
       "  <thead>\n",
       "    <tr style=\"text-align: right;\">\n",
       "      <th></th>\n",
       "      <th>features</th>\n",
       "      <th>importances</th>\n",
       "    </tr>\n",
       "  </thead>\n",
       "  <tbody>\n",
       "    <tr>\n",
       "      <th>13</th>\n",
       "      <td>Humidity3pm</td>\n",
       "      <td>0.302690</td>\n",
       "    </tr>\n",
       "    <tr>\n",
       "      <th>5</th>\n",
       "      <td>Sunshine</td>\n",
       "      <td>0.161547</td>\n",
       "    </tr>\n",
       "    <tr>\n",
       "      <th>17</th>\n",
       "      <td>Cloud3pm</td>\n",
       "      <td>0.077774</td>\n",
       "    </tr>\n",
       "    <tr>\n",
       "      <th>15</th>\n",
       "      <td>Pressure3pm</td>\n",
       "      <td>0.062075</td>\n",
       "    </tr>\n",
       "    <tr>\n",
       "      <th>7</th>\n",
       "      <td>WindGustSpeed</td>\n",
       "      <td>0.059614</td>\n",
       "    </tr>\n",
       "    <tr>\n",
       "      <th>3</th>\n",
       "      <td>Rainfall</td>\n",
       "      <td>0.038174</td>\n",
       "    </tr>\n",
       "    <tr>\n",
       "      <th>0</th>\n",
       "      <td>Location</td>\n",
       "      <td>0.031012</td>\n",
       "    </tr>\n",
       "    <tr>\n",
       "      <th>8</th>\n",
       "      <td>WindDir9am</td>\n",
       "      <td>0.028934</td>\n",
       "    </tr>\n",
       "    <tr>\n",
       "      <th>6</th>\n",
       "      <td>WindGustDir</td>\n",
       "      <td>0.025561</td>\n",
       "    </tr>\n",
       "    <tr>\n",
       "      <th>9</th>\n",
       "      <td>WindDir3pm</td>\n",
       "      <td>0.025418</td>\n",
       "    </tr>\n",
       "    <tr>\n",
       "      <th>11</th>\n",
       "      <td>WindSpeed3pm</td>\n",
       "      <td>0.022332</td>\n",
       "    </tr>\n",
       "    <tr>\n",
       "      <th>16</th>\n",
       "      <td>Cloud9am</td>\n",
       "      <td>0.021320</td>\n",
       "    </tr>\n",
       "    <tr>\n",
       "      <th>1</th>\n",
       "      <td>MinTemp</td>\n",
       "      <td>0.020890</td>\n",
       "    </tr>\n",
       "    <tr>\n",
       "      <th>14</th>\n",
       "      <td>Pressure9am</td>\n",
       "      <td>0.019547</td>\n",
       "    </tr>\n",
       "    <tr>\n",
       "      <th>2</th>\n",
       "      <td>MaxTemp</td>\n",
       "      <td>0.018795</td>\n",
       "    </tr>\n",
       "    <tr>\n",
       "      <th>12</th>\n",
       "      <td>Humidity9am</td>\n",
       "      <td>0.018064</td>\n",
       "    </tr>\n",
       "    <tr>\n",
       "      <th>10</th>\n",
       "      <td>WindSpeed9am</td>\n",
       "      <td>0.017058</td>\n",
       "    </tr>\n",
       "    <tr>\n",
       "      <th>18</th>\n",
       "      <td>Temp9am</td>\n",
       "      <td>0.016972</td>\n",
       "    </tr>\n",
       "    <tr>\n",
       "      <th>19</th>\n",
       "      <td>Temp3pm</td>\n",
       "      <td>0.016940</td>\n",
       "    </tr>\n",
       "    <tr>\n",
       "      <th>4</th>\n",
       "      <td>Evaporation</td>\n",
       "      <td>0.015284</td>\n",
       "    </tr>\n",
       "    <tr>\n",
       "      <th>20</th>\n",
       "      <td>RainToday</td>\n",
       "      <td>0.000000</td>\n",
       "    </tr>\n",
       "  </tbody>\n",
       "</table>\n",
       "</div>"
      ],
      "text/plain": [
       "         features  importances\n",
       "13    Humidity3pm     0.302690\n",
       "5        Sunshine     0.161547\n",
       "17       Cloud3pm     0.077774\n",
       "15    Pressure3pm     0.062075\n",
       "7   WindGustSpeed     0.059614\n",
       "3        Rainfall     0.038174\n",
       "0        Location     0.031012\n",
       "8      WindDir9am     0.028934\n",
       "6     WindGustDir     0.025561\n",
       "9      WindDir3pm     0.025418\n",
       "11   WindSpeed3pm     0.022332\n",
       "16       Cloud9am     0.021320\n",
       "1         MinTemp     0.020890\n",
       "14    Pressure9am     0.019547\n",
       "2         MaxTemp     0.018795\n",
       "12    Humidity9am     0.018064\n",
       "10   WindSpeed9am     0.017058\n",
       "18        Temp9am     0.016972\n",
       "19        Temp3pm     0.016940\n",
       "4     Evaporation     0.015284\n",
       "20      RainToday     0.000000"
      ]
     },
     "execution_count": 23,
     "metadata": {},
     "output_type": "execute_result"
    }
   ],
   "source": [
    "features = X.columns  \n",
    "importances = clf.feature_importances_\n",
    "\n",
    "importances_df = pd.DataFrame()\n",
    "importances_df['features'] = features\n",
    "importances_df['importances'] = importances\n",
    "importances_df.sort_values('importances', ascending=False)"
   ]
  },
  {
   "cell_type": "code",
   "execution_count": 24,
   "id": "6SxnIsmfiRmR",
   "metadata": {
    "executionInfo": {
     "elapsed": 250,
     "status": "ok",
     "timestamp": 1637734172078,
     "user": {
      "displayName": "Ian Lam",
      "photoUrl": "https://lh3.googleusercontent.com/a/default-user=s64",
      "userId": "11070752889004136904"
     },
     "user_tz": -480
    },
    "id": "6SxnIsmfiRmR"
   },
   "outputs": [],
   "source": [
    "from sklearn.model_selection import GridSearchCV  \n",
    "parameters = {'max_depth': [1, 3, 5], 'n_estimators': [50, 100, 150], 'learning_rate': [0.01, 0.05, 0.1, 0.2]}\n",
    "clf = XGBClassifier()  \n",
    "grid_search = GridSearchCV(clf, parameters, scoring='roc_auc', cv=5)  "
   ]
  },
  {
   "cell_type": "code",
   "execution_count": 25,
   "id": "QW_l7zlziYtJ",
   "metadata": {
    "colab": {
     "base_uri": "https://localhost:8080/"
    },
    "executionInfo": {
     "elapsed": 490796,
     "status": "ok",
     "timestamp": 1637734676596,
     "user": {
      "displayName": "Ian Lam",
      "photoUrl": "https://lh3.googleusercontent.com/a/default-user=s64",
      "userId": "11070752889004136904"
     },
     "user_tz": -480
    },
    "id": "QW_l7zlziYtJ",
    "outputId": "745b885d-470d-4f1e-87eb-9c5837956bc9"
   },
   "outputs": [
    {
     "data": {
      "text/plain": [
       "'grid_search.fit(X_train, y_train) \\ngrid_search.best_params_ '"
      ]
     },
     "execution_count": 25,
     "metadata": {},
     "output_type": "execute_result"
    }
   ],
   "source": [
    "\"\"\"grid_search.fit(X_train, y_train) \n",
    "grid_search.best_params_ \"\"\""
   ]
  },
  {
   "cell_type": "code",
   "execution_count": 26,
   "id": "KbWAYjGamozt",
   "metadata": {
    "colab": {
     "base_uri": "https://localhost:8080/"
    },
    "executionInfo": {
     "elapsed": 8056,
     "status": "ok",
     "timestamp": 1637735121298,
     "user": {
      "displayName": "Ian Lam",
      "photoUrl": "https://lh3.googleusercontent.com/a/default-user=s64",
      "userId": "11070752889004136904"
     },
     "user_tz": -480
    },
    "id": "KbWAYjGamozt",
    "outputId": "f5bd433e-7d2e-4f03-f8a7-193318588d0a"
   },
   "outputs": [
    {
     "name": "stderr",
     "output_type": "stream",
     "text": [
      "C:\\Users\\user\\anaconda3\\lib\\site-packages\\xgboost\\sklearn.py:1224: UserWarning: The use of label encoder in XGBClassifier is deprecated and will be removed in a future release. To remove this warning, do the following: 1) Pass option use_label_encoder=False when constructing XGBClassifier object; and 2) Encode your labels (y) as integers starting with 0, i.e. 0, 1, 2, ..., [num_class - 1].\n",
      "  warnings.warn(label_encoder_deprecation_msg, UserWarning)\n"
     ]
    },
    {
     "name": "stdout",
     "output_type": "stream",
     "text": [
      "[15:02:12] WARNING: C:/Users/Administrator/workspace/xgboost-win64_release_1.5.0/src/learner.cc:1115: Starting in XGBoost 1.3.0, the default evaluation metric used with the objective 'binary:logistic' was changed from 'error' to 'logloss'. Explicitly set eval_metric if you'd like to restore the old behavior.\n"
     ]
    },
    {
     "data": {
      "text/plain": [
       "0.9045844460681225"
      ]
     },
     "execution_count": 26,
     "metadata": {},
     "output_type": "execute_result"
    }
   ],
   "source": [
    "##### optimization\n",
    "\n",
    "from xgboost import XGBClassifier\n",
    "clf = XGBClassifier(n_estimators=150, learning_rate=0.2, max_depth = 5)\n",
    "clf.fit(X_train, y_train)\n",
    "\n",
    "y_pred_proba = clf.predict_proba(X_test)\n",
    "\n",
    "from sklearn.metrics import roc_auc_score\n",
    "roc_score = roc_auc_score(y_test, y_pred_proba[:,1])\n",
    "roc_score"
   ]
  },
  {
   "cell_type": "markdown",
   "id": "b3e46e49",
   "metadata": {
    "id": "6ooh9a6ynqBr"
   },
   "source": [
    "# KNN"
   ]
  },
  {
   "cell_type": "code",
   "execution_count": 54,
   "id": "d8a08638",
   "metadata": {},
   "outputs": [
    {
     "data": {
      "text/plain": [
       "0.8831630521808751"
      ]
     },
     "execution_count": 54,
     "metadata": {},
     "output_type": "execute_result"
    }
   ],
   "source": [
    "from sklearn.neighbors import KNeighborsClassifier as KNN\n",
    "knn = KNN(n_neighbors=27)  \n",
    "knn.fit(X_train, y_train)\n",
    "\n",
    "y_pred_proba = knn.predict_proba(X_test)\n",
    "\n",
    "roc_score = roc_auc_score(y_test, y_pred_proba[:,1])\n",
    "roc_score"
   ]
  },
  {
   "cell_type": "code",
   "execution_count": 47,
   "id": "d5e04ae9",
   "metadata": {},
   "outputs": [
    {
     "data": {
      "text/plain": [
       "{1: 0.7114412221787446,\n",
       " 2: 0.7785619800187976,\n",
       " 3: 0.8097156988053452,\n",
       " 4: 0.8307220326682471,\n",
       " 5: 0.8400186117480373,\n",
       " 6: 0.8478659321720978,\n",
       " 7: 0.8562326756465496,\n",
       " 8: 0.860589268136567,\n",
       " 9: 0.8660610710284594,\n",
       " 10: 0.8680199565981034,\n",
       " 11: 0.8697560825806103,\n",
       " 12: 0.8715680033213914,\n",
       " 13: 0.8728889098075638,\n",
       " 14: 0.8739049514138968,\n",
       " 15: 0.8759409530811537,\n",
       " 16: 0.8763980681472108,\n",
       " 17: 0.8766227186165049,\n",
       " 18: 0.8776185984070661,\n",
       " 19: 0.8789102076106595,\n",
       " 20: 0.879277015967429,\n",
       " 21: 0.8800935125519036,\n",
       " 22: 0.8808904396451376,\n",
       " 23: 0.881017470475356,\n",
       " 24: 0.8814426455801563,\n",
       " 25: 0.8825261894013275,\n",
       " 26: 0.8826952980549703,\n",
       " 27: 0.8831630521808751,\n",
       " 28: 0.8829769028061056,\n",
       " 29: 0.8831448495923988}"
      ]
     },
     "execution_count": 47,
     "metadata": {},
     "output_type": "execute_result"
    }
   ],
   "source": [
    "'''s_list = {}\n",
    "for i in range(1,30):\n",
    "    knn = KNN(n_neighbors=i)  \n",
    "    knn.fit(X_train, y_train)\n",
    "    y_pred_proba = knn.predict_proba(X_test)\n",
    "    roc_score = roc_auc_score(y_test, y_pred_proba[:,1])\n",
    "    s_list[i] = roc_score\n",
    "s_list'''"
   ]
  },
  {
   "cell_type": "code",
   "execution_count": null,
   "id": "4c0219f9",
   "metadata": {},
   "outputs": [],
   "source": []
  },
  {
   "cell_type": "markdown",
   "id": "3538ff75",
   "metadata": {},
   "source": [
    "# Decision Tree"
   ]
  },
  {
   "cell_type": "code",
   "execution_count": 50,
   "id": "35cb32ec",
   "metadata": {},
   "outputs": [
    {
     "name": "stdout",
     "output_type": "stream",
     "text": [
      "0.8597094839541106\n"
     ]
    }
   ],
   "source": [
    "from sklearn.tree import DecisionTreeClassifier\n",
    "model = DecisionTreeClassifier(max_depth=5, random_state=123) \n",
    "model.fit(X_train, y_train)\n",
    "\n",
    "y_pred_proba = model.predict_proba(X_test)\n",
    "\n",
    "dct_roc_score = roc_auc_score(y_test, y_pred_proba[:,1])\n",
    "print(dct_roc_score)"
   ]
  },
  {
   "cell_type": "code",
   "execution_count": null,
   "id": "47fb257a",
   "metadata": {},
   "outputs": [],
   "source": []
  },
  {
   "cell_type": "markdown",
   "id": "64eebd1c",
   "metadata": {},
   "source": [
    "# LightGBM"
   ]
  },
  {
   "cell_type": "code",
   "execution_count": 53,
   "id": "57a27906",
   "metadata": {},
   "outputs": [
    {
     "data": {
      "text/plain": [
       "0.904063838368669"
      ]
     },
     "execution_count": 53,
     "metadata": {},
     "output_type": "execute_result"
    }
   ],
   "source": [
    "from lightgbm import LGBMClassifier\n",
    "model = LGBMClassifier()\n",
    "model.fit(X_train, y_train)\n",
    "\n",
    "y_pred = model.predict(X_test)\n",
    "y_pred_proba = model.predict_proba(X_test)\n",
    "\n",
    "from sklearn.metrics import roc_auc_score\n",
    "LightGBM_score = roc_auc_score(y_test, y_pred_proba[:,1])\n",
    "LightGBM_score"
   ]
  },
  {
   "cell_type": "code",
   "execution_count": 64,
   "id": "92b9a0ba",
   "metadata": {},
   "outputs": [
    {
     "data": {
      "text/plain": [
       "{'learning_rate': 0.05, 'n_estimators': 120, 'num_leaves': 120}"
      ]
     },
     "execution_count": 64,
     "metadata": {},
     "output_type": "execute_result"
    }
   ],
   "source": [
    "####Optimize \n",
    "parameters = {'num_leaves': [10, 15, 30 , 60 , 120], 'n_estimators': [10, 20, 60 ,120], 'learning_rate': [0.05, 0.1, 0.2]}\n",
    "model = LGBMClassifier() \n",
    "grid_search = GridSearchCV(model, parameters, scoring='roc_auc', cv=5)\n",
    "\n",
    "grid_search.fit(X_train, y_train) \n",
    "grid_search.best_params_"
   ]
  },
  {
   "cell_type": "code",
   "execution_count": 61,
   "id": "8dc1ae88",
   "metadata": {},
   "outputs": [
    {
     "data": {
      "text/plain": [
       "LGBMClassifier(n_estimators=60, num_leaves=60)"
      ]
     },
     "execution_count": 61,
     "metadata": {},
     "output_type": "execute_result"
    }
   ],
   "source": [
    "model = LGBMClassifier(num_leaves=60, n_estimators=60,learning_rate=0.1)\n",
    "model.fit(X_train, y_train)"
   ]
  },
  {
   "cell_type": "code",
   "execution_count": 62,
   "id": "2fa0f30d",
   "metadata": {},
   "outputs": [
    {
     "data": {
      "text/plain": [
       "0.9031986800457895"
      ]
     },
     "execution_count": 62,
     "metadata": {},
     "output_type": "execute_result"
    }
   ],
   "source": [
    "y_pred_proba = model.predict_proba(X_test)\n",
    "from sklearn.metrics import roc_auc_score\n",
    "score = roc_auc_score(y_test, y_pred_proba[:, 1])\n",
    "score"
   ]
  },
  {
   "cell_type": "code",
   "execution_count": null,
   "id": "381476a5",
   "metadata": {},
   "outputs": [],
   "source": []
  },
  {
   "cell_type": "markdown",
   "id": "f76c76f3",
   "metadata": {},
   "source": [
    "# AdaBoost"
   ]
  },
  {
   "cell_type": "code",
   "execution_count": 65,
   "id": "81b83037",
   "metadata": {},
   "outputs": [
    {
     "data": {
      "text/plain": [
       "AdaBoostClassifier(random_state=123)"
      ]
     },
     "execution_count": 65,
     "metadata": {},
     "output_type": "execute_result"
    }
   ],
   "source": [
    "from sklearn.ensemble import AdaBoostClassifier\n",
    "aclf = AdaBoostClassifier(random_state=123)\n",
    "aclf.fit(X_train, y_train)"
   ]
  },
  {
   "cell_type": "code",
   "execution_count": 66,
   "id": "8d915c87",
   "metadata": {},
   "outputs": [
    {
     "data": {
      "image/png": "[encoded data removed]",
      "text/plain": [
       "<Figure size 432x288 with 1 Axes>"
      ]
     },
     "metadata": {
      "needs_background": "light"
     },
     "output_type": "display_data"
    }
   ],
   "source": [
    "y_pred_proba = aclf.predict_proba(X_test)\n",
    "from sklearn.metrics import roc_curve\n",
    "fpr, tpr, thres = roc_curve(y_test.values, y_pred_proba[:,1])\n",
    "import matplotlib.pyplot as plt\n",
    "plt.plot(fpr, tpr)\n",
    "plt.show()"
   ]
  },
  {
   "cell_type": "code",
   "execution_count": 67,
   "id": "c35252ff",
   "metadata": {},
   "outputs": [
    {
     "name": "stdout",
     "output_type": "stream",
     "text": [
      "0.8818933362032217\n"
     ]
    }
   ],
   "source": [
    "from sklearn.metrics import roc_auc_score\n",
    "adascore = roc_auc_score(y_test, y_pred_proba[:,1])\n",
    "print(adascore)"
   ]
  },
  {
   "cell_type": "code",
   "execution_count": null,
   "id": "7a37ee68",
   "metadata": {},
   "outputs": [],
   "source": []
  },
  {
   "cell_type": "markdown",
   "id": "b75d80ac",
   "metadata": {},
   "source": [
    "# GBDT"
   ]
  },
  {
   "cell_type": "code",
   "execution_count": 69,
   "id": "f7aa7f76",
   "metadata": {},
   "outputs": [
    {
     "data": {
      "text/plain": [
       "GradientBoostingClassifier(random_state=123)"
      ]
     },
     "execution_count": 69,
     "metadata": {},
     "output_type": "execute_result"
    }
   ],
   "source": [
    "from sklearn.ensemble import GradientBoostingClassifier\n",
    "gmodel = GradientBoostingClassifier(random_state=123)\n",
    "gmodel.fit(X_train, y_train)\n",
    "\n",
    "\n"
   ]
  },
  {
   "cell_type": "code",
   "execution_count": 71,
   "id": "755c0dd4",
   "metadata": {},
   "outputs": [
    {
     "data": {
      "image/png": "[encoded data removed]",
      "text/plain": [
       "<Figure size 432x288 with 1 Axes>"
      ]
     },
     "metadata": {
      "needs_background": "light"
     },
     "output_type": "display_data"
    }
   ],
   "source": [
    "y_pred_proba = gmodel.predict_proba(X_test)\n",
    "from sklearn.metrics import roc_curve\n",
    "fpr, tpr, thres = roc_curve(y_test.values, y_pred_proba[:,1])\n",
    "import matplotlib.pyplot as plt\n",
    "plt.plot(fpr, tpr)\n",
    "plt.show()"
   ]
  },
  {
   "cell_type": "code",
   "execution_count": 72,
   "id": "e6f6a9d0",
   "metadata": {},
   "outputs": [
    {
     "name": "stdout",
     "output_type": "stream",
     "text": [
      "0.8927885308474415\n"
     ]
    }
   ],
   "source": [
    "from sklearn.metrics import roc_auc_score\n",
    "gscore = roc_auc_score(y_test, y_pred_proba[:,1])\n",
    "print(gscore)"
   ]
  },
  {
   "cell_type": "markdown",
   "id": "15511570",
   "metadata": {},
   "source": [
    "# SMOTE"
   ]
  },
  {
   "cell_type": "code",
   "execution_count": 18,
   "id": "1d4af011",
   "metadata": {},
   "outputs": [],
   "source": [
    "from imblearn.over_sampling import SMOTE\n",
    "smote = SMOTE(random_state=0)\n",
    "X_smotesampled, y_smotesampled = smote.fit_resample(X, y)"
   ]
  },
  {
   "cell_type": "code",
   "execution_count": 20,
   "id": "c62f86ee",
   "metadata": {
    "scrolled": true
   },
   "outputs": [
    {
     "data": {
      "text/plain": [
       "Counter({0: 43993, 1: 43993})"
      ]
     },
     "execution_count": 20,
     "metadata": {},
     "output_type": "execute_result"
    }
   ],
   "source": [
    "from collections import Counter\n",
    "Counter(y_smotesampled)"
   ]
  },
  {
   "cell_type": "code",
   "execution_count": 21,
   "id": "6e66e5fe",
   "metadata": {},
   "outputs": [
    {
     "data": {
      "text/plain": [
       "'from sklearn.model_selection import train_test_split\\nX_train, X_test, y_train, y_test = train_test_split(X_smotesampled, y_smotesampled, test_size=0.2, random_state=123)'"
      ]
     },
     "execution_count": 21,
     "metadata": {},
     "output_type": "execute_result"
    }
   ],
   "source": [
    "\"\"\"from sklearn.model_selection import train_test_split\n",
    "X_train, X_test, y_train, y_test = train_test_split(X_smotesampled, y_smotesampled, test_size=0.2, random_state=123)\"\"\""
   ]
  },
  {
   "cell_type": "code",
   "execution_count": 22,
   "id": "1e53c3a4",
   "metadata": {},
   "outputs": [],
   "source": [
    "from sklearn.model_selection import train_test_split\n",
    "X_train, X_test, y_train, y_test = train_test_split(X, y, test_size=0.2, random_state=123)"
   ]
  },
  {
   "cell_type": "code",
   "execution_count": 23,
   "id": "6029b734",
   "metadata": {},
   "outputs": [
    {
     "data": {
      "text/plain": [
       "LGBMClassifier()"
      ]
     },
     "execution_count": 23,
     "metadata": {},
     "output_type": "execute_result"
    }
   ],
   "source": [
    "from lightgbm import LGBMClassifier\n",
    "model = LGBMClassifier()\n",
    "model.fit(X_smotesampled, y_smotesampled)"
   ]
  },
  {
   "cell_type": "code",
   "execution_count": 24,
   "id": "f1094dde",
   "metadata": {},
   "outputs": [
    {
     "data": {
      "text/plain": [
       "0.9180852991065742"
      ]
     },
     "execution_count": 24,
     "metadata": {},
     "output_type": "execute_result"
    }
   ],
   "source": [
    "y_pred = model.predict(X_test)\n",
    "y_pred_proba = model.predict_proba(X_test)\n",
    "\n",
    "from sklearn.metrics import roc_auc_score\n",
    "LightGBM_score = roc_auc_score(y_test, y_pred_proba[:,1])\n",
    "LightGBM_score"
   ]
  },
  {
   "cell_type": "markdown",
   "id": "ac93b669",
   "metadata": {},
   "source": [
    "# 2"
   ]
  }
 ],
 "metadata": {
  "colab": {
   "collapsed_sections": [],
   "name": "Weather.ipynb",
   "provenance": []
  },
  "kernelspec": {
   "display_name": "Python 3",
   "language": "python",
   "name": "python3"
  },
  "language_info": {
   "codemirror_mode": {
    "name": "ipython",
    "version": 3
   },
   "file_extension": ".py",
   "mimetype": "text/x-python",
   "name": "python",
   "nbconvert_exporter": "python",
   "pygments_lexer": "ipython3",
   "version": "3.8.8"
  }
 },
 "nbformat": 4,
 "nbformat_minor": 5
}
